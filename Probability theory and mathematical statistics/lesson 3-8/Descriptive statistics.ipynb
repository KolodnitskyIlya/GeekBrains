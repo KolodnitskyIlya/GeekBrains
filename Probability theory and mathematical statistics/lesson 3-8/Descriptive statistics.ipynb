{
 "cells": [
  {
   "cell_type": "code",
   "execution_count": 759,
   "metadata": {},
   "outputs": [],
   "source": [
    "import numpy as np\n",
    "import scipy as sp"
   ]
  },
  {
   "cell_type": "markdown",
   "metadata": {},
   "source": [
    "Стандартное отклонение"
   ]
  },
  {
   "cell_type": "code",
   "execution_count": 760,
   "metadata": {},
   "outputs": [],
   "source": [
    "x = [1, 3, 5, 5, 100]\n",
    "y = [1, 2, 3, 4, 5, 6]"
   ]
  },
  {
   "cell_type": "code",
   "execution_count": 761,
   "metadata": {},
   "outputs": [
    {
     "data": {
      "text/plain": [
       "np.float64(38.62848689762518)"
      ]
     },
     "execution_count": 761,
     "metadata": {},
     "output_type": "execute_result"
    }
   ],
   "source": [
    "np.std(x) # смещенная оценка"
   ]
  },
  {
   "cell_type": "code",
   "execution_count": 762,
   "metadata": {},
   "outputs": [
    {
     "data": {
      "text/plain": [
       "np.float64(43.18796128552493)"
      ]
     },
     "execution_count": 762,
     "metadata": {},
     "output_type": "execute_result"
    }
   ],
   "source": [
    "np.std(x, ddof=1) # несмещенная оценка"
   ]
  },
  {
   "cell_type": "markdown",
   "metadata": {},
   "source": [
    "Дисперсия\n"
   ]
  },
  {
   "cell_type": "code",
   "execution_count": 763,
   "metadata": {},
   "outputs": [
    {
     "data": {
      "text/plain": [
       "np.float64(1492.16)"
      ]
     },
     "execution_count": 763,
     "metadata": {},
     "output_type": "execute_result"
    }
   ],
   "source": [
    "np.var(x) # смещенная оценка"
   ]
  },
  {
   "cell_type": "code",
   "execution_count": 764,
   "metadata": {},
   "outputs": [
    {
     "data": {
      "text/plain": [
       "np.float64(1865.2)"
      ]
     },
     "execution_count": 764,
     "metadata": {},
     "output_type": "execute_result"
    }
   ],
   "source": [
    "np.var(x, ddof=1) # несмещенная оценка"
   ]
  },
  {
   "cell_type": "markdown",
   "metadata": {},
   "source": [
    "Медиана"
   ]
  },
  {
   "cell_type": "code",
   "execution_count": 765,
   "metadata": {},
   "outputs": [
    {
     "data": {
      "text/plain": [
       "np.float64(5.0)"
      ]
     },
     "execution_count": 765,
     "metadata": {},
     "output_type": "execute_result"
    }
   ],
   "source": [
    "np.median(x)"
   ]
  },
  {
   "cell_type": "code",
   "execution_count": 766,
   "metadata": {},
   "outputs": [
    {
     "data": {
      "text/plain": [
       "np.float64(3.5)"
      ]
     },
     "execution_count": 766,
     "metadata": {},
     "output_type": "execute_result"
    }
   ],
   "source": [
    "np.median(y)"
   ]
  },
  {
   "cell_type": "markdown",
   "metadata": {},
   "source": [
    "Мода"
   ]
  },
  {
   "cell_type": "code",
   "execution_count": 767,
   "metadata": {},
   "outputs": [
    {
     "data": {
      "text/plain": [
       "ModeResult(mode=np.int64(5), count=np.int64(2))"
      ]
     },
     "execution_count": 767,
     "metadata": {},
     "output_type": "execute_result"
    }
   ],
   "source": [
    "sp.stats.mode(x)"
   ]
  },
  {
   "cell_type": "markdown",
   "metadata": {},
   "source": [
    "Квартили распределения"
   ]
  },
  {
   "cell_type": "code",
   "execution_count": 768,
   "metadata": {},
   "outputs": [
    {
     "data": {
      "text/plain": [
       "np.float64(3.0)"
      ]
     },
     "execution_count": 768,
     "metadata": {},
     "output_type": "execute_result"
    }
   ],
   "source": [
    "np.quantile(x, q=0.25)"
   ]
  },
  {
   "cell_type": "code",
   "execution_count": 769,
   "metadata": {},
   "outputs": [
    {
     "data": {
      "text/plain": [
       "array([1, 2, 4, 2, 1, 5, 7, 2, 3, 5, 7, 8, 9])"
      ]
     },
     "execution_count": 769,
     "metadata": {},
     "output_type": "execute_result"
    }
   ],
   "source": [
    "z = np.array([1, 2, 4, 2, 1, 5, 7, 2, 3, 5, 7, 8, 9])\n",
    "z"
   ]
  },
  {
   "cell_type": "code",
   "execution_count": 770,
   "metadata": {},
   "outputs": [
    {
     "data": {
      "text/plain": [
       "13"
      ]
     },
     "execution_count": 770,
     "metadata": {},
     "output_type": "execute_result"
    }
   ],
   "source": [
    "n = len(z)\n",
    "n"
   ]
  },
  {
   "cell_type": "code",
   "execution_count": 771,
   "metadata": {},
   "outputs": [
    {
     "data": {
      "text/plain": [
       "array([1, 1, 2, 2, 2, 3, 4, 5, 5, 7, 7, 8, 9])"
      ]
     },
     "execution_count": 771,
     "metadata": {},
     "output_type": "execute_result"
    }
   ],
   "source": [
    "z.sort()\n",
    "z"
   ]
  },
  {
   "cell_type": "code",
   "execution_count": 772,
   "metadata": {},
   "outputs": [],
   "source": [
    "# Если n*k/100 - целое число, то k-я персентиль это среднее значений под номерами n*k/100 и n*k/100 + 1"
   ]
  },
  {
   "cell_type": "code",
   "execution_count": 773,
   "metadata": {},
   "outputs": [],
   "source": [
    "# Если n*k/100 - не целое число, то k-я персентиль совпадает с измерениями j+1, где j - максимальное целое число < n*k/100"
   ]
  },
  {
   "cell_type": "code",
   "execution_count": 774,
   "metadata": {},
   "outputs": [],
   "source": [
    "# посчитаем 25ю персентиль"
   ]
  },
  {
   "cell_type": "code",
   "execution_count": 775,
   "metadata": {},
   "outputs": [],
   "source": [
    "k = 25"
   ]
  },
  {
   "cell_type": "code",
   "execution_count": 776,
   "metadata": {},
   "outputs": [
    {
     "data": {
      "text/plain": [
       "3.25"
      ]
     },
     "execution_count": 776,
     "metadata": {},
     "output_type": "execute_result"
    }
   ],
   "source": [
    "n * k/100"
   ]
  },
  {
   "cell_type": "code",
   "execution_count": 777,
   "metadata": {},
   "outputs": [],
   "source": [
    "j = 3"
   ]
  },
  {
   "cell_type": "code",
   "execution_count": 778,
   "metadata": {},
   "outputs": [],
   "source": [
    "# 25 персентиль соответствует j+1=4, т.е. 4-му значению, которое равно"
   ]
  },
  {
   "cell_type": "code",
   "execution_count": 779,
   "metadata": {},
   "outputs": [
    {
     "data": {
      "text/plain": [
       "np.int64(2)"
      ]
     },
     "execution_count": 779,
     "metadata": {},
     "output_type": "execute_result"
    }
   ],
   "source": [
    "z[3]"
   ]
  },
  {
   "cell_type": "code",
   "execution_count": 780,
   "metadata": {},
   "outputs": [],
   "source": [
    "k = 75"
   ]
  },
  {
   "cell_type": "code",
   "execution_count": 781,
   "metadata": {},
   "outputs": [
    {
     "data": {
      "text/plain": [
       "9.75"
      ]
     },
     "execution_count": 781,
     "metadata": {},
     "output_type": "execute_result"
    }
   ],
   "source": [
    "n * k / 100"
   ]
  },
  {
   "cell_type": "code",
   "execution_count": 782,
   "metadata": {},
   "outputs": [
    {
     "data": {
      "text/plain": [
       "np.int64(7)"
      ]
     },
     "execution_count": 782,
     "metadata": {},
     "output_type": "execute_result"
    }
   ],
   "source": [
    "z[9]"
   ]
  },
  {
   "cell_type": "markdown",
   "metadata": {},
   "source": [
    "1. Даны значения зарплат из выборки выпускников: 100, 80, 75, 77, 89, 33, 45, 25, 65, 17, 30, 24, 57, 55, 70, 75, 65, 84, 90, 150. Посчитать (желательно без использования статистических методов наподобие std, var, mean) среднее арифметическое, среднее квадратичное отклонение, смещенную и несмещенную оценки дисперсий для данной выборки."
   ]
  },
  {
   "cell_type": "code",
   "execution_count": 783,
   "metadata": {},
   "outputs": [],
   "source": [
    "x = np.array([100, 80, 75, 77, 89, 33, 45, 25, 65, 17, 30, 24, 57, 55, 70, 75, 65, 84, 90, 150])"
   ]
  },
  {
   "cell_type": "markdown",
   "metadata": {},
   "source": [
    "среднее"
   ]
  },
  {
   "cell_type": "code",
   "execution_count": 784,
   "metadata": {},
   "outputs": [
    {
     "data": {
      "text/plain": [
       "np.float64(65.3)"
      ]
     },
     "execution_count": 784,
     "metadata": {},
     "output_type": "execute_result"
    }
   ],
   "source": [
    "x_sr = sum(x) / len(x)\n",
    "x_sr"
   ]
  },
  {
   "cell_type": "markdown",
   "metadata": {},
   "source": [
    "std"
   ]
  },
  {
   "cell_type": "code",
   "execution_count": 785,
   "metadata": {},
   "outputs": [
    {
     "data": {
      "text/plain": [
       "array([1.20409e+03, 2.16090e+02, 9.40900e+01, 1.36890e+02, 5.61690e+02,\n",
       "       1.04329e+03, 4.12090e+02, 1.62409e+03, 9.00000e-02, 2.33289e+03,\n",
       "       1.24609e+03, 1.70569e+03, 6.88900e+01, 1.06090e+02, 2.20900e+01,\n",
       "       9.40900e+01, 9.00000e-02, 3.49690e+02, 6.10090e+02, 7.17409e+03])"
      ]
     },
     "execution_count": 785,
     "metadata": {},
     "output_type": "execute_result"
    }
   ],
   "source": [
    "y = (x - x_sr)**2\n",
    "y"
   ]
  },
  {
   "cell_type": "code",
   "execution_count": 786,
   "metadata": {},
   "outputs": [
    {
     "data": {
      "text/plain": [
       "np.float64(31.624607341019814)"
      ]
     },
     "execution_count": 786,
     "metadata": {},
     "output_type": "execute_result"
    }
   ],
   "source": [
    "S = (sum(y) / (len(y) - 1))**0.5 # несмещенное стандартное квадратичное отклонение\n",
    "S"
   ]
  },
  {
   "cell_type": "code",
   "execution_count": 787,
   "metadata": {},
   "outputs": [
    {
     "data": {
      "text/plain": [
       "np.float64(31.624607341019814)"
      ]
     },
     "execution_count": 787,
     "metadata": {},
     "output_type": "execute_result"
    }
   ],
   "source": [
    "np.std(x, ddof=1) # несмещенное стандартное квадратичное отклонение"
   ]
  },
  {
   "cell_type": "markdown",
   "metadata": {},
   "source": [
    "дисперсия"
   ]
  },
  {
   "cell_type": "code",
   "execution_count": 788,
   "metadata": {},
   "outputs": [
    {
     "data": {
      "text/plain": [
       "np.float64(1000.1157894736843)"
      ]
     },
     "execution_count": 788,
     "metadata": {},
     "output_type": "execute_result"
    }
   ],
   "source": [
    "D = S**2 # несмещенная оценка дисперсии\n",
    "D"
   ]
  },
  {
   "cell_type": "code",
   "execution_count": 789,
   "metadata": {},
   "outputs": [
    {
     "data": {
      "text/plain": [
       "np.float64(1000.1157894736842)"
      ]
     },
     "execution_count": 789,
     "metadata": {},
     "output_type": "execute_result"
    }
   ],
   "source": [
    "np.var(x, ddof=1) # несмещенная оценка дисперсии"
   ]
  },
  {
   "cell_type": "code",
   "execution_count": 790,
   "metadata": {},
   "outputs": [
    {
     "data": {
      "text/plain": [
       "np.float64(30.823854398825596)"
      ]
     },
     "execution_count": 790,
     "metadata": {},
     "output_type": "execute_result"
    }
   ],
   "source": [
    "S  = (sum(y) / (len(y)))**0.5 # смещенное стандартное квадратичное отклонение\n",
    "S"
   ]
  },
  {
   "cell_type": "code",
   "execution_count": 791,
   "metadata": {},
   "outputs": [
    {
     "data": {
      "text/plain": [
       "np.float64(950.11)"
      ]
     },
     "execution_count": 791,
     "metadata": {},
     "output_type": "execute_result"
    }
   ],
   "source": [
    "D = S**2 # смещенная оценка дисперсии\n",
    "D"
   ]
  },
  {
   "cell_type": "code",
   "execution_count": 792,
   "metadata": {},
   "outputs": [
    {
     "data": {
      "text/plain": [
       "np.float64(950.11)"
      ]
     },
     "execution_count": 792,
     "metadata": {},
     "output_type": "execute_result"
    }
   ],
   "source": [
    "np.var(x) # смещенная оценка дисперсии"
   ]
  },
  {
   "cell_type": "code",
   "execution_count": 793,
   "metadata": {},
   "outputs": [],
   "source": [
    "x = [202, 203, 199, 197, 195, 201, 200, 204, 194, 190] "
   ]
  },
  {
   "cell_type": "code",
   "execution_count": 794,
   "metadata": {},
   "outputs": [
    {
     "data": {
      "text/plain": [
       "np.float64(4.453463071962462)"
      ]
     },
     "execution_count": 794,
     "metadata": {},
     "output_type": "execute_result"
    }
   ],
   "source": [
    "np.std(x, ddof=1)"
   ]
  },
  {
   "cell_type": "code",
   "execution_count": 795,
   "metadata": {},
   "outputs": [
    {
     "data": {
      "text/plain": [
       "np.float64(198.5)"
      ]
     },
     "execution_count": 795,
     "metadata": {},
     "output_type": "execute_result"
    }
   ],
   "source": [
    "np.mean(x)"
   ]
  },
  {
   "cell_type": "code",
   "execution_count": 796,
   "metadata": {},
   "outputs": [
    {
     "data": {
      "text/plain": [
       "np.float64(4.453463071962462)"
      ]
     },
     "execution_count": 796,
     "metadata": {},
     "output_type": "execute_result"
    }
   ],
   "source": [
    "np.std(x, ddof=1)\n"
   ]
  },
  {
   "cell_type": "markdown",
   "metadata": {},
   "source": [
    "коэффициент корреляции"
   ]
  },
  {
   "cell_type": "code",
   "execution_count": 797,
   "metadata": {},
   "outputs": [],
   "source": [
    "s = np.array([27, 37, 42, 48, 54, 56, 77, 80])"
   ]
  },
  {
   "cell_type": "code",
   "execution_count": 798,
   "metadata": {},
   "outputs": [],
   "source": [
    "p = np.array([1.2, 1.6, 1.8, 1.8, 2.5, 2.6, 3, 3.3])"
   ]
  },
  {
   "cell_type": "code",
   "execution_count": 799,
   "metadata": {},
   "outputs": [
    {
     "data": {
      "text/plain": [
       "array([[1.        , 0.97318772],\n",
       "       [0.97318772, 1.        ]])"
      ]
     },
     "execution_count": 799,
     "metadata": {},
     "output_type": "execute_result"
    }
   ],
   "source": [
    "np.corrcoef(s, p)"
   ]
  },
  {
   "cell_type": "code",
   "execution_count": 800,
   "metadata": {},
   "outputs": [
    {
     "data": {
      "text/plain": [
       "np.float64(2.2249999999999996)"
      ]
     },
     "execution_count": 800,
     "metadata": {},
     "output_type": "execute_result"
    }
   ],
   "source": [
    "np.mean(p)"
   ]
  },
  {
   "cell_type": "code",
   "execution_count": 801,
   "metadata": {},
   "outputs": [
    {
     "data": {
      "text/plain": [
       "array([-0.50856773, -0.43534508,  0.07383893, -0.20400298, -0.91857238,\n",
       "        0.86346673, -0.0790598 , -0.20896425,  1.92505922, -1.31066955,\n",
       "       -0.19631382,  0.78169666, -0.24618263,  0.43816846,  0.91701305,\n",
       "        0.19985064, -0.64139927,  1.19263923,  0.87373302,  0.85079178])"
      ]
     },
     "execution_count": 801,
     "metadata": {},
     "output_type": "execute_result"
    }
   ],
   "source": [
    "np.random.normal(size=20)"
   ]
  },
  {
   "cell_type": "markdown",
   "metadata": {},
   "source": [
    "Даны значения величины заработной платы заемщиков банка (zp) и значения их поведенческого кредитного скоринга (ks):\n",
    "zp = [35, 45, 190, 200, 40, 70, 54, 150, 120, 110],\n",
    "ks = [401, 574, 874, 919, 459, 739, 653, 902, 746, 832].\n",
    "Найдите ковариацию этих двух величин с помощью элементарных действий, а затем с помощью функции cov из numpy\n",
    "Полученные значения должны быть равны.\n",
    "Найдите коэффициент корреляции Пирсона с помощью ковариации и среднеквадратичных отклонений двух признаков,\n",
    "а затем с использованием функций из библиотек numpy и pandas."
   ]
  },
  {
   "cell_type": "code",
   "execution_count": 802,
   "metadata": {},
   "outputs": [],
   "source": [
    "zp = np.array([35, 45, 190, 200, 40, 70, 54, 150, 120, 110])"
   ]
  },
  {
   "cell_type": "code",
   "execution_count": 803,
   "metadata": {},
   "outputs": [],
   "source": [
    "ks = np.array([401, 574, 874, 919, 459, 739, 653, 902, 746, 832])"
   ]
  },
  {
   "cell_type": "code",
   "execution_count": 804,
   "metadata": {},
   "outputs": [
    {
     "data": {
      "text/plain": [
       "array([ 14035,  25830, 166060, 183800,  18360,  51730,  35262, 135300,\n",
       "        89520,  91520])"
      ]
     },
     "execution_count": 804,
     "metadata": {},
     "output_type": "execute_result"
    }
   ],
   "source": [
    "both = zp * ks\n",
    "both"
   ]
  },
  {
   "cell_type": "code",
   "execution_count": 805,
   "metadata": {},
   "outputs": [
    {
     "data": {
      "text/plain": [
       "np.float64(9157.839999999997)"
      ]
     },
     "execution_count": 805,
     "metadata": {},
     "output_type": "execute_result"
    }
   ],
   "source": [
    "cov = np.mean(both) - np.mean(zp) * np.mean(ks)\n",
    "cov"
   ]
  },
  {
   "cell_type": "code",
   "execution_count": 806,
   "metadata": {},
   "outputs": [
    {
     "data": {
      "text/plain": [
       "np.float64(59.115480206118605)"
      ]
     },
     "execution_count": 806,
     "metadata": {},
     "output_type": "execute_result"
    }
   ],
   "source": [
    "std_zp = np.std(zp)\n",
    "std_zp"
   ]
  },
  {
   "cell_type": "code",
   "execution_count": 807,
   "metadata": {},
   "outputs": [
    {
     "data": {
      "text/plain": [
       "np.float64(174.55340157098058)"
      ]
     },
     "execution_count": 807,
     "metadata": {},
     "output_type": "execute_result"
    }
   ],
   "source": [
    "std_ks = np.std(ks)\n",
    "std_ks"
   ]
  },
  {
   "cell_type": "code",
   "execution_count": 808,
   "metadata": {},
   "outputs": [
    {
     "data": {
      "text/plain": [
       "np.float64(0.8874900920739158)"
      ]
     },
     "execution_count": 808,
     "metadata": {},
     "output_type": "execute_result"
    }
   ],
   "source": [
    "r = cov / (std_ks * std_zp)\n",
    "r"
   ]
  },
  {
   "cell_type": "code",
   "execution_count": 809,
   "metadata": {},
   "outputs": [
    {
     "data": {
      "text/plain": [
       "array([[1.        , 0.88749009],\n",
       "       [0.88749009, 1.        ]])"
      ]
     },
     "execution_count": 809,
     "metadata": {},
     "output_type": "execute_result"
    }
   ],
   "source": [
    "np.corrcoef(zp, ks)"
   ]
  },
  {
   "cell_type": "code",
   "execution_count": 810,
   "metadata": {},
   "outputs": [
    {
     "data": {
      "text/plain": [
       "np.float64(118.1)"
      ]
     },
     "execution_count": 810,
     "metadata": {},
     "output_type": "execute_result"
    }
   ],
   "source": [
    "a = np.array([131, 125, 115, 122, 131, 115, 107, 99, 125, 111])\n",
    "np.mean(a)"
   ]
  },
  {
   "cell_type": "code",
   "execution_count": 811,
   "metadata": {},
   "outputs": [
    {
     "data": {
      "text/plain": [
       "np.float64(10.54566788359614)"
      ]
     },
     "execution_count": 811,
     "metadata": {},
     "output_type": "execute_result"
    }
   ],
   "source": [
    "np.std(a, ddof=1)"
   ]
  },
  {
   "cell_type": "markdown",
   "metadata": {},
   "source": [
    "# Метод градиентного спуска (минимизация модели)"
   ]
  },
  {
   "cell_type": "markdown",
   "metadata": {},
   "source": [
    "## без интерсепта"
   ]
  },
  {
   "cell_type": "code",
   "execution_count": 812,
   "metadata": {},
   "outputs": [
    {
     "data": {
      "text/plain": [
       "array([27, 37, 42, 48, 54, 56, 77, 80])"
      ]
     },
     "execution_count": 812,
     "metadata": {},
     "output_type": "execute_result"
    }
   ],
   "source": [
    "X = np.array([27, 37, 42, 48, 54, 56, 77, 80])\n",
    "X"
   ]
  },
  {
   "cell_type": "code",
   "execution_count": 813,
   "metadata": {},
   "outputs": [
    {
     "data": {
      "text/plain": [
       "array([1.2, 1.6, 1.8, 1.8, 2.5, 2.6, 3. , 3.3])"
      ]
     },
     "execution_count": 813,
     "metadata": {},
     "output_type": "execute_result"
    }
   ],
   "source": [
    "y = np.array([1.2, 1.6, 1.8, 1.8, 2.5, 2.6, 3, 3.3])\n",
    "y"
   ]
  },
  {
   "cell_type": "markdown",
   "metadata": {},
   "source": [
    "## mse = (1/n) * sum(y - b1 * X)^2"
   ]
  },
  {
   "cell_type": "markdown",
   "metadata": {},
   "source": [
    "## mse_p = (2/n) * sum((y - b1 * X) * (-X)) - производная от mse, где B1 это переменная, а x и y это константы"
   ]
  },
  {
   "cell_type": "code",
   "execution_count": 814,
   "metadata": {},
   "outputs": [],
   "source": [
    "def mse_(B1, y=y, X=X, n=8):\n",
    "    return np.sum((y - B1 * X)**2) / n"
   ]
  },
  {
   "cell_type": "code",
   "execution_count": 815,
   "metadata": {},
   "outputs": [
    {
     "data": {
      "text/plain": [
       "1e-06"
      ]
     },
     "execution_count": 815,
     "metadata": {},
     "output_type": "execute_result"
    }
   ],
   "source": [
    "alpha = 1e-6 # скорость обучения (спуск вниз на 1e-6)\n",
    "alpha"
   ]
  },
  {
   "cell_type": "code",
   "execution_count": 816,
   "metadata": {},
   "outputs": [],
   "source": [
    "B1 = 0.1 # берем из стандартного нормального распределения [-3; 3] (99,7%)"
   ]
  },
  {
   "cell_type": "code",
   "execution_count": 817,
   "metadata": {},
   "outputs": [],
   "source": [
    "n = 8"
   ]
  },
  {
   "cell_type": "code",
   "execution_count": 818,
   "metadata": {},
   "outputs": [
    {
     "name": "stdout",
     "output_type": "stream",
     "text": [
      "B1=0.099643625\n",
      "B1=0.09928943698428125\n",
      "B1=0.09893742253186796\n",
      "B1=0.09858756830414553\n",
      "B1=0.09823986104435506\n",
      "B1=0.09789428757709111\n",
      "B1=0.0975508348078024\n",
      "B1=0.09720948972229562\n",
      "B1=0.09687023938624233\n",
      "B1=0.0965330709446888\n"
     ]
    }
   ],
   "source": [
    "for i in range(10):\n",
    "    B1 -= alpha * (2 / n) * np.sum((y - B1*X) * (-X))\n",
    "    print(f'B1={B1}')"
   ]
  },
  {
   "cell_type": "code",
   "execution_count": 819,
   "metadata": {},
   "outputs": [
    {
     "name": "stdout",
     "output_type": "stream",
     "text": [
      "Iteration 0: B1=0.09619797162156898, mse=9.065656785336\n",
      "Iteration 10: B1=0.09295802461401302, mse=8.018824950239837\n",
      "Iteration 20: B1=0.08991150325539897, mse=7.093254327129224\n",
      "Iteration 30: B1=0.08704685998597309, mse=6.27489845597186\n",
      "Iteration 40: B1=0.08435323663819518, mse=5.551337967840769\n",
      "Iteration 50: B1=0.08182042327985041, mse=4.9115921085679695\n",
      "Iteration 60: B1=0.07943881951423788, mse=4.345952094816223\n",
      "Iteration 70: B1=0.07719939809074752, mse=3.845833773580402\n",
      "Iteration 80: B1=0.07509367068789481, mse=3.403647349079136\n",
      "Iteration 90: B1=0.0731136557391167, mse=3.0126822000119056\n",
      "Iteration 100: B1=0.07125184817937577, mse=2.6670050391683473\n",
      "Iteration 110: B1=0.06950119099789967, mse=2.361369869859907\n",
      "Iteration 120: B1=0.06785504848922905, mse=2.0911383726726376\n",
      "Iteration 130: B1=0.06630718110118475, mse=1.8522095143304953\n",
      "Iteration 140: B1=0.06485172178441763, mse=1.6409573104132085\n",
      "Iteration 150: B1=0.06348315375389614, mse=1.4541757974157041\n",
      "Iteration 160: B1=0.06219628957803878, mse=1.2890303790450832\n",
      "Iteration 170: B1=0.06098625151623043, mse=1.1430148083864782\n",
      "Iteration 180: B1=0.05984845303019411, mse=1.013913153099197\n",
      "Iteration 190: B1=0.05877858139913825, mse=0.899766166426895\n",
      "Iteration 200: B1=0.05777258137278424, mse=0.7988415536682709\n",
      "Iteration 210: B1=0.05682663980031213, mse=0.7096076828721882\n",
      "Iteration 220: B1=0.05593717117696228, mse=0.6307103407907674\n",
      "Iteration 230: B1=0.055100804053508465, mse=0.5609521813387635\n",
      "Iteration 240: B1=0.05431436825708884, mse=0.49927455466904114\n",
      "Iteration 250: B1=0.05357488287495651, mse=0.44474144110220526\n",
      "Iteration 260: B1=0.05287954495560317, mse=0.39652524609168355\n",
      "Iteration 270: B1=0.05222571888442856, mse=0.3538942406486629\n",
      "Iteration 280: B1=0.05161092639368511, mse=0.31620145662275134\n",
      "Iteration 290: B1=0.05103283716883129, mse=0.2828748683131475\n",
      "Iteration 300: B1=0.05048926001568819, mse=0.253408711406449\n",
      "Iteration 310: B1=0.049978134554918896, mse=0.22735580749729006\n",
      "Iteration 320: B1=0.04949752341234972, mse=0.20432077770874194\n",
      "Iteration 330: B1=0.049045604875531, mse=0.18395404242236316\n",
      "Iteration 340: B1=0.048620665988703196, mse=0.165946516057814\n",
      "Iteration 350: B1=0.04822109605999529, mse=0.15002491639000798\n",
      "Iteration 360: B1=0.04784538055624487, mse=0.13594761721798224\n",
      "Iteration 370: B1=0.04749209536229919, mse=0.12350098144560917\n",
      "Iteration 380: B1=0.04715990138303732, mse=0.112496118924966\n",
      "Iteration 390: B1=0.04684753946765287, mse=0.10276601985939547\n",
      "Iteration 400: B1=0.046553825636958424, mse=0.0941630202627886\n",
      "Iteration 410: B1=0.04627764659562095, mse=0.08655656101088709\n",
      "Iteration 420: B1=0.04601795551231805, mse=0.07983120647598092\n",
      "Iteration 430: B1=0.04577376805181983, mse=0.0738848926757888\n",
      "Iteration 440: B1=0.04554415864395648, mse=0.06862737835043425\n",
      "Iteration 450: B1=0.045328256975329474, mse=0.0639788754610621\n",
      "Iteration 460: B1=0.04512524469046844, mse=0.05986883832653754\n",
      "Iteration 470: B1=0.044934352289929855, mse=0.056234893022170475\n",
      "Iteration 480: B1=0.044754856213579955, mse=0.05302189079301703\n",
      "Iteration 490: B1=0.04458607609800642, mse=0.05018107111635866\n",
      "Iteration 500: B1=0.044427372197663316, mse=0.047669321711997156\n",
      "Iteration 510: B1=0.04427814295997421, mse=0.04544852427027697\n",
      "Iteration 520: B1=0.044137822745202414, mse=0.04348497596860887\n",
      "Iteration 530: B1=0.04400587968244532, mse=0.04174887799742339\n",
      "Iteration 540: B1=0.04388181365362664, mse=0.04021388333342978\n",
      "Iteration 550: B1=0.043765154397844654, mse=0.038856696897182824\n",
      "Iteration 560: B1=0.04365545972889143, mse=0.03765672202695064\n",
      "Iteration 570: B1=0.04355231385918655, mse=0.03659574790377092\n",
      "Iteration 580: B1=0.04345532582377242, mse=0.03565767318405674\n",
      "Iteration 590: B1=0.04336412799839747, mse=0.03482826164560228\n",
      "Iteration 600: B1=0.043278374706070176, mse=0.034094926138670725\n",
      "Iteration 610: B1=0.04319774090680206, mse=0.03344653756340595\n",
      "Iteration 620: B1=0.04312192096557352, mse=0.03287325597461055\n",
      "Iteration 630: B1=0.043050627493852224, mse=0.03236638125073417\n",
      "Iteration 640: B1=0.04298359026027337, mse=0.03191822106082729\n",
      "Iteration 650: B1=0.042920555166352355, mse=0.03152197412572392\n",
      "Iteration 660: B1=0.04286128328334787, mse=0.03117162700182746\n",
      "Iteration 670: B1=0.04280554994662436, mse=0.030861862821088562\n",
      "Iteration 680: B1=0.042753143904081366, mse=0.03058798060221478\n",
      "Iteration 690: B1=0.04270386651542182, mse=0.030345823908576756\n",
      "Iteration 700: B1=0.04265753099922421, mse=0.030131717770124893\n",
      "Iteration 710: B1=0.04261396172496471, mse=0.02994241291204277\n",
      "Iteration 720: B1=0.04257299354730585, mse=0.02977503644375186\n",
      "Iteration 730: B1=0.04253447118012819, mse=0.02962704825992299\n",
      "Iteration 740: B1=0.042498248607932596, mse=0.029496202491837542\n",
      "Iteration 750: B1=0.04246418853238183, mse=0.029380513424082818\n",
      "Iteration 760: B1=0.04243216185188385, mse=0.02927822535933455\n",
      "Iteration 770: B1=0.042402047172244, mse=0.029187785973893918\n",
      "Iteration 780: B1=0.04237373034653153, mse=0.02910782275962239\n",
      "Iteration 790: B1=0.042347104042416046, mse=0.029037122194758083\n",
      "Iteration 800: B1=0.04232206733533424, mse=0.028974611327509097\n",
      "Iteration 810: B1=0.042298525325944504, mse=0.028919341492936738\n",
      "Iteration 820: B1=0.04227638878041976, mse=0.02887047391601622\n",
      "Iteration 830: B1=0.04225557379221477, mse=0.028827266982386763\n",
      "Iteration 840: B1=0.04223600146402611, mse=0.028789064983611657\n",
      "Iteration 850: B1=0.04221759760873912, mse=0.028755288166146878\n",
      "Iteration 860: B1=0.04220029246822852, mse=0.028725423933001273\n",
      "Iteration 870: B1=0.0421840204489466, mse=0.02869901906456431\n",
      "Iteration 880: B1=0.04216871987329689, mse=0.02867567284054535\n",
      "Iteration 890: B1=0.042154332745850905, mse=0.028655030958642226\n",
      "Iteration 900: B1=0.0421408045335218, mse=0.028636780157649436\n",
      "Iteration 910: B1=0.04212808395886166, mse=0.02862064346340606\n",
      "Iteration 920: B1=0.0421161228056991, mse=0.028606375985435813\n",
      "Iteration 930: B1=0.04210487573638024, mse=0.02859376120048907\n",
      "Iteration 940: B1=0.04209430011992054, mse=0.028582607666586046\n",
      "Iteration 950: B1=0.042084355870415875, mse=0.028572746117693035\n",
      "Iteration 960: B1=0.0420750052951007, mse=0.02856402689494142\n",
      "Iteration 970: B1=0.04206621295147699, mse=0.02855631767540419\n",
      "Iteration 980: B1=0.04205794551297279, mse=0.028549501463963626\n",
      "Iteration 990: B1=0.04205017164262078, mse=0.02854347481779294\n",
      "Iteration 1000: B1=0.042042861874278505, mse=0.02853814627650827\n",
      "Iteration 1010: B1=0.04203598850093958, mse=0.02853343497416553\n",
      "Iteration 1020: B1=0.042029525469712836, mse=0.028529269412039072\n",
      "Iteration 1030: B1=0.0420234482830713, mse=0.028525586373556917\n",
      "Iteration 1040: B1=0.04201773390599645, mse=0.028522329964926072\n",
      "Iteration 1050: B1=0.04201236067866616, mse=0.02851945076688826\n",
      "Iteration 1060: B1=0.04200730823435511, mse=0.028516905084733195\n",
      "Iteration 1070: B1=0.0420025574222366, mse=0.028514654285187842\n",
      "Iteration 1080: B1=0.04199809023479309, mse=0.028512664210117673\n",
      "Iteration 1090: B1=0.04199388973956034, mse=0.0285109046581429\n",
      "Iteration 1100: B1=0.04198994001494648, mse=0.028509348926302185\n",
      "Iteration 1110: B1=0.041986226089882686, mse=0.028507973404808748\n",
      "Iteration 1120: B1=0.041982733887076656, mse=0.028506757218748006\n",
      "Iteration 1130: B1=0.041979450169654, mse=0.02850568191127996\n",
      "Iteration 1140: B1=0.04197636249098506, mse=0.028504731163538223\n",
      "Iteration 1150: B1=0.04197345914750704, mse=0.028503890546974713\n",
      "Iteration 1160: B1=0.04197072913436284, mse=0.028503147304392303\n",
      "Iteration 1170: B1=0.04196816210368804, mse=0.028502490156341348\n",
      "Iteration 1180: B1=0.04196574832538835, mse=0.028501909129942847\n",
      "Iteration 1190: B1=0.04196347865025853, mse=0.028501395407539945\n",
      "Iteration 1200: B1=0.04196134447530321, mse=0.028500941192881435\n",
      "Iteration 1210: B1=0.04195933771112798, mse=0.02850053959280542\n",
      "Iteration 1220: B1=0.04195745075127731, mse=0.028500184512629097\n",
      "Iteration 1230: B1=0.041955676443402985, mse=0.0284998705636556\n",
      "Iteration 1240: B1=0.04195400806215375, mse=0.028499592981395247\n",
      "Iteration 1250: B1=0.04195243928368354, mse=0.028499347553259512\n",
      "Iteration 1260: B1=0.04195096416168146, mse=0.028499130554630984\n",
      "Iteration 1270: B1=0.041949577104832866, mse=0.028498938692338407\n",
      "Iteration 1280: B1=0.041948272855626016, mse=0.02849876905467958\n",
      "Iteration 1290: B1=0.041947046470423924, mse=0.028498619067233333\n",
      "Iteration 1300: B1=0.04194589330072598, mse=0.02849848645379017\n",
      "Iteration 1310: B1=0.04194480897554822, mse=0.028498369201808413\n",
      "Iteration 1320: B1=0.04194378938485553, mse=0.028498265531872014\n",
      "Iteration 1330: B1=0.041942830663982904, mse=0.028498173870685883\n",
      "Iteration 1340: B1=0.04194192917898683, mse=0.0284980928271999\n",
      "Iteration 1350: B1=0.04194108151287112, mse=0.02849802117149811\n",
      "Iteration 1360: B1=0.04194028445263511, mse=0.028497957816133502\n",
      "Iteration 1370: B1=0.04193953497709509, mse=0.02849790179962513\n",
      "Iteration 1380: B1=0.04193883024543279, mse=0.028497852271866356\n",
      "Iteration 1390: B1=0.04193816758642747, mse=0.028497808481224025\n",
      "Iteration 1400: B1=0.04193754448833098, mse=0.028497769763131175\n",
      "Iteration 1410: B1=0.04193695858934712, mse=0.028497735530002143\n",
      "Iteration 1420: B1=0.04193640766867954, mse=0.028497705262314914\n",
      "Iteration 1430: B1=0.04193588963811399, mse=0.02849767850072707\n",
      "Iteration 1440: B1=0.04193540253410311, mse=0.02849765483910468\n",
      "Iteration 1450: B1=0.04193494451032387, mse=0.028497633918359026\n",
      "Iteration 1460: B1=0.0419345138306791, mse=0.028497615420996894\n",
      "Iteration 1470: B1=0.04193410886271715, mse=0.02849759906630221\n",
      "Iteration 1480: B1=0.041933728071444104, mse=0.02849758460607622\n",
      "Iteration 1490: B1=0.041933370013505555, mse=0.02849757182087046\n",
      "Iteration 1500: B1=0.04193303333171574, mse=0.028497560516656646\n",
      "Iteration 1510: B1=0.041932716749913224, mse=0.02849755052188211\n",
      "Iteration 1520: B1=0.04193241906812371, mse=0.02849754168486609\n",
      "Iteration 1530: B1=0.0419321391580117, mse=0.028497533871497987\n",
      "Iteration 1540: B1=0.04193187595860358, mse=0.02849752696320222\n",
      "Iteration 1550: B1=0.04193162847226612, mse=0.02849752085513843\n",
      "Iteration 1560: B1=0.04193139576092509, mse=0.028497515454610635\n",
      "Iteration 1570: B1=0.04193117694250949, mse=0.02849751067966042\n",
      "Iteration 1580: B1=0.04193097118760818, mse=0.0284975064578232\n",
      "Iteration 1590: B1=0.04193077771632607, mse=0.028497502725028313\n",
      "Iteration 1600: B1=0.041930595795328034, mse=0.028497499424626857\n",
      "Iteration 1610: B1=0.041930424735059195, mse=0.028497496506531998\n",
      "Iteration 1620: B1=0.041930263887131315, mse=0.028497493926458704\n",
      "Iteration 1630: B1=0.041930112641865074, mse=0.028497491645251696\n",
      "Iteration 1640: B1=0.041929970425979166, mse=0.02849748962829149\n",
      "Iteration 1650: B1=0.041929836700417306, mse=0.028497487844968656\n",
      "Iteration 1660: B1=0.04192971095830503, mse=0.02849748626821949\n",
      "Iteration 1670: B1=0.0419295927230284, mse=0.028497484874115266\n",
      "Iteration 1680: B1=0.04192948154642743, mse=0.02849748364149899\n",
      "Iteration 1690: B1=0.04192937700709742, mse=0.028497482551664538\n",
      "Iteration 1700: B1=0.04192927870879164, mse=0.028497481588072554\n",
      "Iteration 1710: B1=0.04192918627891935, mse=0.02849748073609963\n",
      "Iteration 1720: B1=0.04192909936713364, mse=0.028497479982816112\n",
      "Iteration 1730: B1=0.04192901764400333, mse=0.028497479316790232\n",
      "Iteration 1740: B1=0.04192894079976438, mse=0.02849747872791441\n",
      "Iteration 1750: B1=0.04192886854314577, mse=0.02849747820725182\n",
      "Iteration 1760: B1=0.041928800600265416, mse=0.028497477746900927\n",
      "Iteration 1770: B1=0.04192873671359207, mse=0.02849747733987537\n",
      "Iteration 1780: B1=0.041928676640969144, mse=0.028497476979998188\n",
      "Iteration 1790: B1=0.041928620154696866, mse=0.028497476661807887\n",
      "Iteration 1800: B1=0.04192856704066922, mse=0.02849747638047561\n",
      "Iteration 1810: B1=0.04192851709756234, mse=0.028497476131731824\n",
      "Iteration 1820: B1=0.04192847013607146, mse=0.028497475911801653\n",
      "Iteration 1830: B1=0.04192842597819337, mse=0.02849747571734732\n",
      "Iteration 1840: B1=0.041928384456551684, mse=0.028497475545417948\n",
      "Iteration 1850: B1=0.04192834541376242, mse=0.028497475393404238\n",
      "Iteration 1860: B1=0.04192830870183746, mse=0.028497475258999254\n",
      "Iteration 1870: B1=0.04192827418162362, mse=0.02849747514016323\n",
      "Iteration 1880: B1=0.0419282417222752, mse=0.028497475035092725\n",
      "Iteration 1890: B1=0.04192821120075805, mse=0.02849747494219327\n",
      "Iteration 1900: B1=0.04192818250138312, mse=0.02849747486005494\n",
      "Iteration 1910: B1=0.04192815551536807, mse=0.02849747478743115\n",
      "Iteration 1920: B1=0.04192813014042489, mse=0.028497474723219902\n",
      "Iteration 1930: B1=0.04192810628037217, mse=0.028497474666446622\n",
      "Iteration 1940: B1=0.041928083844770585, mse=0.028497474616249772\n",
      "Iteration 1950: B1=0.04192806274858004, mse=0.028497474571867513\n",
      "Iteration 1960: B1=0.04192804291183736, mse=0.0284974745326264\n",
      "Iteration 1970: B1=0.04192802425935321, mse=0.02849747449793075\n",
      "Iteration 1980: B1=0.041928006720427034, mse=0.02849747446725414\n",
      "Iteration 1990: B1=0.04192799022857916, mse=0.02849747444013108\n",
      "Iteration 2000: B1=0.04192797472129873, mse=0.028497474416149762\n",
      "Iteration 2010: B1=0.04192796013980683, mse=0.028497474394946383\n",
      "Iteration 2020: B1=0.04192794642883365, mse=0.028497474376199136\n",
      "Iteration 2030: B1=0.041927933536409, mse=0.028497474359623475\n",
      "Iteration 2040: B1=0.04192792141366534, mse=0.028497474344967914\n",
      "Iteration 2050: B1=0.041927910014652514, mse=0.028497474332009994\n",
      "Iteration 2060: B1=0.04192789929616361, mse=0.028497474320553058\n",
      "Iteration 2070: B1=0.04192788921757119, mse=0.02849747431042325\n",
      "Iteration 2080: B1=0.04192787974067327, mse=0.028497474301466826\n",
      "Iteration 2090: B1=0.041927870829548526, mse=0.028497474293547938\n",
      "Iteration 2100: B1=0.04192786245042018, mse=0.028497474286546316\n",
      "Iteration 2110: B1=0.041927854571527874, mse=0.028497474280355706\n",
      "Iteration 2120: B1=0.04192784716300742, mse=0.028497474274882265\n",
      "Iteration 2130: B1=0.04192784019677749, mse=0.028497474270042775\n",
      "Iteration 2140: B1=0.041927833646433245, mse=0.02849747426576394\n",
      "Iteration 2150: B1=0.04192782748714618, mse=0.028497474261980696\n",
      "Iteration 2160: B1=0.041927821695570106, mse=0.0284974742586357\n",
      "Iteration 2170: B1=0.04192781624975258, mse=0.02849747425567817\n",
      "Iteration 2180: B1=0.04192781112905172, mse=0.028497474253063253\n",
      "Iteration 2190: B1=0.041927806314058, mse=0.028497474250751244\n",
      "Iteration 2200: B1=0.0419278017865206, mse=0.028497474248707015\n",
      "Iteration 2210: B1=0.04192779752927832, mse=0.028497474246899586\n",
      "Iteration 2220: B1=0.04192779352619447, mse=0.028497474245301534\n",
      "Iteration 2230: B1=0.041927789762095734, mse=0.02849747424388858\n",
      "Iteration 2240: B1=0.04192778622271463, mse=0.028497474242639334\n",
      "Iteration 2250: B1=0.04192778289463548, mse=0.0284974742415348\n",
      "Iteration 2260: B1=0.041927779765243485, mse=0.02849747424055818\n",
      "Iteration 2270: B1=0.04192777682267697, mse=0.02849747423969472\n",
      "Iteration 2280: B1=0.041927774055782414, mse=0.02849747423893123\n",
      "Iteration 2290: B1=0.04192777145407216, mse=0.028497474238256187\n",
      "Iteration 2300: B1=0.04192776900768466, mse=0.028497474237659394\n",
      "Iteration 2310: B1=0.04192776670734711, mse=0.028497474237131698\n",
      "Iteration 2320: B1=0.04192776454434029, mse=0.028497474236665106\n",
      "Iteration 2330: B1=0.04192776251046552, mse=0.028497474236252623\n",
      "Iteration 2340: B1=0.04192776059801358, mse=0.02849747423588788\n",
      "Iteration 2350: B1=0.0419277587997355, mse=0.028497474235565333\n",
      "Iteration 2360: B1=0.04192775710881508, mse=0.02849747423528023\n",
      "Iteration 2370: B1=0.04192775551884303, mse=0.028497474235028145\n",
      "Iteration 2380: B1=0.0419277540237927, mse=0.028497474234805205\n",
      "Iteration 2390: B1=0.041927752617997256, mse=0.028497474234608144\n",
      "Iteration 2400: B1=0.041927751296128156, mse=0.028497474234433866\n",
      "Iteration 2410: B1=0.041927750053174964, mse=0.028497474234279806\n",
      "Iteration 2420: B1=0.041927748884426394, mse=0.028497474234143602\n",
      "Iteration 2430: B1=0.04192774778545241, mse=0.028497474234023157\n",
      "Iteration 2440: B1=0.04192774675208744, mse=0.028497474233916686\n",
      "Iteration 2450: B1=0.041927745780414624, mse=0.028497474233822512\n",
      "Iteration 2460: B1=0.04192774486675093, mse=0.028497474233739287\n",
      "Iteration 2470: B1=0.041927744007633175, mse=0.02849747423366568\n",
      "Iteration 2480: B1=0.041927743199804975, mse=0.0284974742336006\n",
      "Iteration 2490: B1=0.041927742440204314, mse=0.028497474233543037\n",
      "Iteration 2500: B1=0.04192774172595199, mse=0.028497474233492186\n",
      "Iteration 2510: B1=0.04192774105434073, mse=0.028497474233447187\n",
      "Iteration 2520: B1=0.04192774042282482, mse=0.028497474233407424\n",
      "Iteration 2530: B1=0.041927739829010574, mse=0.028497474233372243\n",
      "Iteration 2540: B1=0.041927739270647184, mse=0.028497474233341168\n",
      "Iteration 2550: B1=0.041927738745618226, mse=0.02849747423331367\n",
      "Iteration 2560: B1=0.04192773825193363, mse=0.028497474233289365\n",
      "Iteration 2570: B1=0.04192773778772213, mse=0.028497474233267872\n",
      "Iteration 2580: B1=0.04192773735122417, mse=0.028497474233248884\n",
      "Iteration 2590: B1=0.04192773694078525, mse=0.02849747423323206\n",
      "Iteration 2600: B1=0.04192773655484964, mse=0.028497474233217256\n",
      "Iteration 2610: B1=0.04192773619195448, mse=0.02849747423320409\n",
      "Iteration 2620: B1=0.041927735850724256, mse=0.028497474233192467\n",
      "Iteration 2630: B1=0.04192773552986556, mse=0.0284974742331822\n",
      "Iteration 2640: B1=0.041927735228162205, mse=0.028497474233173135\n",
      "Iteration 2650: B1=0.04192773494447061, mse=0.028497474233165117\n",
      "Iteration 2660: B1=0.041927734677715475, mse=0.02849747423315801\n",
      "Iteration 2670: B1=0.0419277344268857, mse=0.02849747423315174\n",
      "Iteration 2680: B1=0.041927734191030526, mse=0.028497474233146185\n",
      "Iteration 2690: B1=0.041927733969255955, mse=0.02849747423314131\n",
      "Iteration 2700: B1=0.041927733760721383, mse=0.028497474233136942\n",
      "Iteration 2710: B1=0.04192773356463638, mse=0.028497474233133094\n",
      "Iteration 2720: B1=0.04192773338025771, mse=0.028497474233129726\n",
      "Iteration 2730: B1=0.04192773320688648, mse=0.02849747423312674\n",
      "Iteration 2740: B1=0.041927733043865566, mse=0.028497474233124067\n",
      "Iteration 2750: B1=0.04192773289057704, mse=0.028497474233121732\n",
      "Iteration 2760: B1=0.04192773274643987, mse=0.02849747423311965\n",
      "Iteration 2770: B1=0.04192773261090773, mse=0.02849747423311781\n",
      "Iteration 2780: B1=0.04192773248346689, mse=0.028497474233116236\n",
      "Iteration 2790: B1=0.04192773236363429, mse=0.02849747423311476\n",
      "Iteration 2800: B1=0.04192773225095573, mse=0.02849747423311353\n",
      "Iteration 2810: B1=0.041927732145004115, mse=0.02849747423311238\n",
      "Iteration 2820: B1=0.04192773204537783, mse=0.02849747423311138\n",
      "Iteration 2830: B1=0.04192773195169927, mse=0.02849747423311054\n",
      "Iteration 2840: B1=0.04192773186361335, mse=0.028497474233109783\n",
      "Iteration 2850: B1=0.04192773178078616, mse=0.02849747423310907\n",
      "Iteration 2860: B1=0.041927731702903794, mse=0.028497474233108475\n",
      "Iteration 2870: B1=0.04192773162967102, mse=0.028497474233107944\n",
      "Iteration 2880: B1=0.04192773156081026, mse=0.02849747423310744\n",
      "Iteration 2890: B1=0.04192773149606051, mse=0.028497474233107056\n",
      "Iteration 2900: B1=0.04192773143517633, mse=0.028497474233106654\n",
      "Iteration 2910: B1=0.04192773137792694, mse=0.028497474233106335\n",
      "Iteration 2920: B1=0.04192773132409536, mse=0.028497474233106057\n",
      "Iteration 2930: B1=0.04192773127347754, mse=0.028497474233105793\n",
      "Iteration 2940: B1=0.04192773122588163, mse=0.028497474233105564\n",
      "Iteration 2950: B1=0.041927731181127206, mse=0.028497474233105367\n",
      "Iteration 2960: B1=0.04192773113904462, mse=0.028497474233105186\n",
      "Iteration 2970: B1=0.04192773109947437, mse=0.028497474233105027\n",
      "Iteration 2980: B1=0.04192773106226647, mse=0.028497474233104916\n",
      "Iteration 2990: B1=0.041927731027279896, mse=0.02849747423310478\n"
     ]
    }
   ],
   "source": [
    "for i in range(3000):\n",
    "    B1 -= alpha * (2 / n) * np.sum((y - B1*X) * (-X))\n",
    "    if i % 10 == 0:\n",
    "        print(f'Iteration {i}: B1={B1}, mse={mse_(B1)}')"
   ]
  },
  {
   "cell_type": "markdown",
   "metadata": {},
   "source": [
    "Видно что последние значения уже меняются больше чем 10 знаков после запятой, можем взять значения"
   ]
  },
  {
   "cell_type": "markdown",
   "metadata": {},
   "source": [
    "y(штрих) = 0.042x"
   ]
  },
  {
   "cell_type": "code",
   "execution_count": 820,
   "metadata": {},
   "outputs": [
    {
     "data": {
      "text/plain": [
       "np.float64(0.02849747423310478)"
      ]
     },
     "execution_count": 820,
     "metadata": {},
     "output_type": "execute_result"
    }
   ],
   "source": [
    "mse_(0.041927731027279896)"
   ]
  },
  {
   "cell_type": "markdown",
   "metadata": {},
   "source": [
    "Даны значения величины заработной платы заемщиков банка (zp) и значения их поведенческого кредитного скоринга (ks): zp = [35, 45, 190, 200, 40, 70, 54, 150, 120, 110], ks = [401, 574, 874, 919, 459, 739, 653, 902, 746, 832]. Используя математические операции, посчитать коэффициенты линейной регрессии, приняв за X заработную плату (то есть, zp - признак), а за y - значения скорингового балла (то есть, ks - целевая переменная). Произвести расчет как с использованием intercept, так и без."
   ]
  },
  {
   "cell_type": "code",
   "execution_count": 821,
   "metadata": {},
   "outputs": [
    {
     "data": {
      "text/plain": [
       "array([ 35,  45, 190, 200,  40,  70,  54, 150, 120, 110])"
      ]
     },
     "execution_count": 821,
     "metadata": {},
     "output_type": "execute_result"
    }
   ],
   "source": [
    "zp = np.array([35, 45, 190, 200, 40, 70, 54, 150, 120, 110])\n",
    "zp"
   ]
  },
  {
   "cell_type": "code",
   "execution_count": 822,
   "metadata": {},
   "outputs": [
    {
     "data": {
      "text/plain": [
       "array([401, 574, 874, 919, 459, 739, 653, 902, 746, 832])"
      ]
     },
     "execution_count": 822,
     "metadata": {},
     "output_type": "execute_result"
    }
   ],
   "source": [
    "ks = np.array([401, 574, 874, 919, 459, 739, 653, 902, 746, 832])\n",
    "ks"
   ]
  },
  {
   "cell_type": "markdown",
   "metadata": {},
   "source": [
    "без интерсепта"
   ]
  },
  {
   "cell_type": "code",
   "execution_count": 823,
   "metadata": {},
   "outputs": [
    {
     "data": {
      "text/plain": [
       "array([[401],\n",
       "       [574],\n",
       "       [874],\n",
       "       [919],\n",
       "       [459],\n",
       "       [739],\n",
       "       [653],\n",
       "       [902],\n",
       "       [746],\n",
       "       [832]])"
      ]
     },
     "execution_count": 823,
     "metadata": {},
     "output_type": "execute_result"
    }
   ],
   "source": [
    "y = ks.reshape((10, 1))\n",
    "y"
   ]
  },
  {
   "cell_type": "code",
   "execution_count": 824,
   "metadata": {},
   "outputs": [
    {
     "data": {
      "text/plain": [
       "array([[ 35],\n",
       "       [ 45],\n",
       "       [190],\n",
       "       [200],\n",
       "       [ 40],\n",
       "       [ 70],\n",
       "       [ 54],\n",
       "       [150],\n",
       "       [120],\n",
       "       [110]])"
      ]
     },
     "execution_count": 824,
     "metadata": {},
     "output_type": "execute_result"
    }
   ],
   "source": [
    "x = zp.reshape((10, 1))\n",
    "x"
   ]
  },
  {
   "cell_type": "code",
   "execution_count": 825,
   "metadata": {},
   "outputs": [
    {
     "data": {
      "text/plain": [
       "array([[811417]])"
      ]
     },
     "execution_count": 825,
     "metadata": {},
     "output_type": "execute_result"
    }
   ],
   "source": [
    "x.T @ y"
   ]
  },
  {
   "cell_type": "code",
   "execution_count": 826,
   "metadata": {},
   "outputs": [
    {
     "data": {
      "text/plain": [
       "array([[7.25868502e-06]])"
      ]
     },
     "execution_count": 826,
     "metadata": {},
     "output_type": "execute_result"
    }
   ],
   "source": [
    "np.linalg.inv(np.dot(x.T, x))"
   ]
  },
  {
   "cell_type": "code",
   "execution_count": 827,
   "metadata": {},
   "outputs": [
    {
     "data": {
      "text/plain": [
       "array([[5.88982042]])"
      ]
     },
     "execution_count": 827,
     "metadata": {},
     "output_type": "execute_result"
    }
   ],
   "source": [
    "B = np.dot(np.linalg.inv(np.dot(x.T, x)), x.T @ y) # значения B1, без интерсепта\n",
    "B"
   ]
  },
  {
   "cell_type": "markdown",
   "metadata": {},
   "source": [
    "с интерсептом"
   ]
  },
  {
   "cell_type": "code",
   "execution_count": 828,
   "metadata": {},
   "outputs": [
    {
     "data": {
      "text/plain": [
       "array([[1.],\n",
       "       [1.],\n",
       "       [1.],\n",
       "       [1.],\n",
       "       [1.],\n",
       "       [1.],\n",
       "       [1.],\n",
       "       [1.],\n",
       "       [1.],\n",
       "       [1.]])"
      ]
     },
     "execution_count": 828,
     "metadata": {},
     "output_type": "execute_result"
    }
   ],
   "source": [
    "ones_matrix = np.ones((10, 1))\n",
    "ones_matrix"
   ]
  },
  {
   "cell_type": "code",
   "execution_count": 829,
   "metadata": {},
   "outputs": [
    {
     "data": {
      "text/plain": [
       "array([[  1.,  35.],\n",
       "       [  1.,  45.],\n",
       "       [  1., 190.],\n",
       "       [  1., 200.],\n",
       "       [  1.,  40.],\n",
       "       [  1.,  70.],\n",
       "       [  1.,  54.],\n",
       "       [  1., 150.],\n",
       "       [  1., 120.],\n",
       "       [  1., 110.]])"
      ]
     },
     "execution_count": 829,
     "metadata": {},
     "output_type": "execute_result"
    }
   ],
   "source": [
    "x = np.hstack((ones_matrix, x))\n",
    "x"
   ]
  },
  {
   "cell_type": "code",
   "execution_count": 830,
   "metadata": {},
   "outputs": [
    {
     "data": {
      "text/plain": [
       "array([[444.17735732],\n",
       "       [  2.62053888]])"
      ]
     },
     "execution_count": 830,
     "metadata": {},
     "output_type": "execute_result"
    }
   ],
   "source": [
    "B = np.dot(np.linalg.inv(np.dot(x.T, x)), x.T @ y)\n",
    "B"
   ]
  },
  {
   "cell_type": "markdown",
   "metadata": {},
   "source": [
    "Посчитать коэффициент линейной регрессии при заработной плате (zp), используя градиентный спуск (без intercept)."
   ]
  },
  {
   "cell_type": "code",
   "execution_count": 831,
   "metadata": {},
   "outputs": [
    {
     "data": {
      "text/plain": [
       "array([ 35,  45, 190, 200,  40,  70,  54, 150, 120, 110])"
      ]
     },
     "execution_count": 831,
     "metadata": {},
     "output_type": "execute_result"
    }
   ],
   "source": [
    "zp = np.array([35, 45, 190, 200, 40, 70, 54, 150, 120, 110])\n",
    "zp"
   ]
  },
  {
   "cell_type": "code",
   "execution_count": 832,
   "metadata": {},
   "outputs": [
    {
     "data": {
      "text/plain": [
       "array([401, 574, 874, 919, 459, 739, 653, 902, 746, 832])"
      ]
     },
     "execution_count": 832,
     "metadata": {},
     "output_type": "execute_result"
    }
   ],
   "source": [
    "ks = np.array([401, 574, 874, 919, 459, 739, 653, 902, 746, 832])\n",
    "ks"
   ]
  },
  {
   "cell_type": "code",
   "execution_count": 833,
   "metadata": {},
   "outputs": [],
   "source": [
    "def mse_(B1, y=ks, x=zp, n=10):\n",
    "    return np.sum((y - B1 * x)**2) / n"
   ]
  },
  {
   "cell_type": "code",
   "execution_count": 834,
   "metadata": {},
   "outputs": [
    {
     "data": {
      "text/plain": [
       "1e-06"
      ]
     },
     "execution_count": 834,
     "metadata": {},
     "output_type": "execute_result"
    }
   ],
   "source": [
    "alpha = 1e-6\n",
    "alpha"
   ]
  },
  {
   "cell_type": "code",
   "execution_count": 835,
   "metadata": {},
   "outputs": [],
   "source": [
    "B1 = 0.1"
   ]
  },
  {
   "cell_type": "code",
   "execution_count": 836,
   "metadata": {},
   "outputs": [],
   "source": [
    "n = 10"
   ]
  },
  {
   "cell_type": "code",
   "execution_count": 837,
   "metadata": {},
   "outputs": [
    {
     "name": "stdout",
     "output_type": "stream",
     "text": [
      "Iteration 0: B1=0.25952808, mse=493237.7212546963\n",
      "Iteration 10: B1=1.6319792141937546, mse=306275.7568040035\n",
      "Iteration 20: B1=2.6698789606516935, mse=199352.96411174876\n",
      "Iteration 30: B1=3.4547782236263824, mse=138204.25062502263\n",
      "Iteration 40: B1=4.04834889855975, mse=103233.54824312925\n",
      "Iteration 50: B1=4.497229618367758, mse=83233.94472982832\n",
      "Iteration 60: B1=4.836690291080364, mse=71796.25222021657\n",
      "Iteration 70: B1=5.093403362579137, mse=65255.0820486468\n",
      "Iteration 80: B1=5.287539550879594, mse=61514.21323463749\n",
      "Iteration 90: B1=5.434352720103083, mse=59374.825462025976\n",
      "Iteration 100: B1=5.54537842245223, mse=58151.31823171113\n",
      "Iteration 110: B1=5.629340281237233, mse=57451.59938606899\n",
      "Iteration 120: B1=5.692835432193034, mse=57051.433003054815\n",
      "Iteration 130: B1=5.740852880272922, mse=56822.57946410561\n",
      "Iteration 140: B1=5.777165500770666, mse=56691.69904907657\n",
      "Iteration 150: B1=5.804626485478126, mse=56616.849068093856\n",
      "Iteration 160: B1=5.825393526544474, mse=56574.04266614384\n",
      "Iteration 170: B1=5.8410983528369655, mse=56549.561857680776\n",
      "Iteration 180: B1=5.852974939784972, mse=56535.56138215128\n",
      "Iteration 190: B1=5.861956466540286, mse=56527.55456671675\n",
      "Iteration 200: B1=5.868748638669329, mse=56522.97550129376\n",
      "Iteration 210: B1=5.873885137561711, mse=56520.35675226433\n",
      "Iteration 220: B1=5.877769553381888, mse=56518.85910026643\n",
      "Iteration 230: B1=5.880707096362074, mse=56518.00259913497\n",
      "Iteration 240: B1=5.882928578088004, mse=56517.512769595625\n",
      "Iteration 250: B1=5.884608547059329, mse=56517.232638059555\n",
      "Iteration 260: B1=5.885879003490128, mse=56517.072431964974\n",
      "Iteration 270: B1=5.8868397709626885, mse=56516.98081074626\n",
      "Iteration 280: B1=5.887566339866551, mse=56516.928412941146\n",
      "Iteration 290: B1=5.888115798905433, mse=56516.89844684794\n",
      "Iteration 300: B1=5.888531320728348, mse=56516.88130936019\n",
      "Iteration 310: B1=5.888845554134484, mse=56516.87150850017\n",
      "Iteration 320: B1=5.889083189387522, mse=56516.86590342786\n",
      "Iteration 330: B1=5.889262898203911, mse=56516.862697909644\n",
      "Iteration 340: B1=5.889398800845774, mse=56516.86086468671\n",
      "Iteration 350: B1=5.889501575592372, mse=56516.85981627392\n",
      "Iteration 360: B1=5.889579297764605, mse=56516.85921669088\n",
      "Iteration 370: B1=5.889638074227276, mse=56516.85887379176\n",
      "Iteration 380: B1=5.889682523223808, mse=56516.85867768914\n",
      "Iteration 390: B1=5.889716137245525, mse=56516.858565538845\n",
      "Iteration 400: B1=5.8897415574471985, mse=56516.85850140053\n",
      "Iteration 410: B1=5.889760781170516, mse=56516.85846472009\n",
      "Iteration 420: B1=5.88977531888123, mse=56516.8584437427\n",
      "Iteration 430: B1=5.889786312850989, mse=56516.85843174583\n",
      "Iteration 440: B1=5.8897946269090555, mse=56516.858424884835\n",
      "Iteration 450: B1=5.889800914315978, mse=56516.858420961085\n",
      "Iteration 460: B1=5.8898056690922225, mse=56516.85841871711\n",
      "Iteration 470: B1=5.889809264834859, mse=56516.85841743378\n",
      "Iteration 480: B1=5.889811984072197, mse=56516.85841669984\n",
      "Iteration 490: B1=5.889814040462894, mse=56516.85841628011\n",
      "Iteration 500: B1=5.889815595583751, mse=56516.858416040064\n",
      "Iteration 510: B1=5.889816771625289, mse=56516.8584159028\n",
      "Iteration 520: B1=5.889817660992628, mse=56516.85841582429\n",
      "Iteration 530: B1=5.889818333566034, mse=56516.8584157794\n",
      "Iteration 540: B1=5.889818842191625, mse=56516.85841575372\n",
      "Iteration 550: B1=5.889819226833643, mse=56516.858415739014\n",
      "Iteration 560: B1=5.889819517714565, mse=56516.858415730625\n",
      "Iteration 570: B1=5.889819737689781, mse=56516.85841572584\n",
      "Iteration 580: B1=5.889819904043407, mse=56516.85841572308\n",
      "Iteration 590: B1=5.889820029846346, mse=56516.85841572152\n",
      "Iteration 600: B1=5.889820124983314, mse=56516.85841572062\n",
      "Iteration 610: B1=5.889820196929507, mse=56516.85841572009\n",
      "Iteration 620: B1=5.889820251337954, mse=56516.8584157198\n",
      "Iteration 630: B1=5.88982029248369, mse=56516.85841571963\n",
      "Iteration 640: B1=5.889820323599662, mse=56516.85841571953\n",
      "Iteration 650: B1=5.889820347130743, mse=56516.858415719485\n",
      "Iteration 660: B1=5.88982036492584, mse=56516.85841571945\n",
      "Iteration 670: B1=5.88982037838317, mse=56516.858415719435\n",
      "Iteration 680: B1=5.889820388560115, mse=56516.85841571943\n",
      "Iteration 690: B1=5.889820396256308, mse=56516.85841571943\n",
      "Iteration 700: B1=5.889820402076462, mse=56516.85841571941\n",
      "Iteration 710: B1=5.8898204064778845, mse=56516.85841571941\n",
      "Iteration 720: B1=5.889820409806407, mse=56516.8584157194\n",
      "Iteration 730: B1=5.889820412323561, mse=56516.85841571941\n",
      "Iteration 740: B1=5.88982041422713, mse=56516.8584157194\n",
      "Iteration 750: B1=5.889820415666681, mse=56516.8584157194\n",
      "Iteration 760: B1=5.889820416755325, mse=56516.85841571941\n",
      "Iteration 770: B1=5.889820417578597, mse=56516.85841571939\n",
      "Iteration 780: B1=5.889820418201186, mse=56516.8584157194\n",
      "Iteration 790: B1=5.889820418672012, mse=56516.85841571941\n",
      "Iteration 800: B1=5.88982041902807, mse=56516.8584157194\n",
      "Iteration 810: B1=5.889820419297334, mse=56516.85841571941\n",
      "Iteration 820: B1=5.889820419500961, mse=56516.8584157194\n",
      "Iteration 830: B1=5.889820419654952, mse=56516.85841571943\n",
      "Iteration 840: B1=5.8898204197714055, mse=56516.8584157194\n",
      "Iteration 850: B1=5.889820419859474, mse=56516.8584157194\n",
      "Iteration 860: B1=5.889820419926073, mse=56516.8584157194\n",
      "Iteration 870: B1=5.889820419976438, mse=56516.85841571941\n",
      "Iteration 880: B1=5.889820420014526, mse=56516.8584157194\n",
      "Iteration 890: B1=5.889820420043329, mse=56516.8584157194\n",
      "Iteration 900: B1=5.889820420065112, mse=56516.85841571941\n",
      "Iteration 910: B1=5.889820420081584, mse=56516.85841571941\n",
      "Iteration 920: B1=5.8898204200940425, mse=56516.85841571941\n",
      "Iteration 930: B1=5.889820420103463, mse=56516.85841571943\n",
      "Iteration 940: B1=5.889820420110588, mse=56516.85841571941\n",
      "Iteration 950: B1=5.889820420115975, mse=56516.8584157194\n",
      "Iteration 960: B1=5.889820420120048, mse=56516.8584157194\n",
      "Iteration 970: B1=5.88982042012313, mse=56516.8584157194\n",
      "Iteration 980: B1=5.889820420125461, mse=56516.85841571941\n",
      "Iteration 990: B1=5.889820420127222, mse=56516.85841571941\n",
      "Iteration 1000: B1=5.8898204201285544, mse=56516.85841571941\n",
      "Iteration 1010: B1=5.8898204201295625, mse=56516.85841571941\n",
      "Iteration 1020: B1=5.889820420130325, mse=56516.85841571941\n",
      "Iteration 1030: B1=5.8898204201309, mse=56516.8584157194\n",
      "Iteration 1040: B1=5.889820420131335, mse=56516.85841571941\n",
      "Iteration 1050: B1=5.889820420131667, mse=56516.8584157194\n",
      "Iteration 1060: B1=5.889820420131916, mse=56516.85841571941\n",
      "Iteration 1070: B1=5.8898204201321045, mse=56516.85841571943\n",
      "Iteration 1080: B1=5.889820420132247, mse=56516.85841571941\n",
      "Iteration 1090: B1=5.889820420132355, mse=56516.85841571941\n",
      "Iteration 1100: B1=5.889820420132437, mse=56516.85841571943\n",
      "Iteration 1110: B1=5.889820420132498, mse=56516.85841571941\n",
      "Iteration 1120: B1=5.889820420132545, mse=56516.85841571941\n",
      "Iteration 1130: B1=5.88982042013258, mse=56516.85841571943\n",
      "Iteration 1140: B1=5.889820420132606, mse=56516.85841571941\n",
      "Iteration 1150: B1=5.889820420132625, mse=56516.85841571939\n",
      "Iteration 1160: B1=5.889820420132642, mse=56516.8584157194\n",
      "Iteration 1170: B1=5.889820420132651, mse=56516.8584157194\n",
      "Iteration 1180: B1=5.88982042013266, mse=56516.8584157194\n",
      "Iteration 1190: B1=5.8898204201326685, mse=56516.85841571941\n",
      "Iteration 1200: B1=5.889820420132673, mse=56516.85841571943\n",
      "Iteration 1210: B1=5.889820420132673, mse=56516.85841571943\n",
      "Iteration 1220: B1=5.889820420132673, mse=56516.85841571943\n",
      "Iteration 1230: B1=5.889820420132673, mse=56516.85841571943\n",
      "Iteration 1240: B1=5.889820420132673, mse=56516.85841571943\n",
      "Iteration 1250: B1=5.889820420132673, mse=56516.85841571943\n",
      "Iteration 1260: B1=5.889820420132673, mse=56516.85841571943\n",
      "Iteration 1270: B1=5.889820420132673, mse=56516.85841571943\n",
      "Iteration 1280: B1=5.889820420132673, mse=56516.85841571943\n",
      "Iteration 1290: B1=5.889820420132673, mse=56516.85841571943\n",
      "Iteration 1300: B1=5.889820420132673, mse=56516.85841571943\n",
      "Iteration 1310: B1=5.889820420132673, mse=56516.85841571943\n",
      "Iteration 1320: B1=5.889820420132673, mse=56516.85841571943\n",
      "Iteration 1330: B1=5.889820420132673, mse=56516.85841571943\n",
      "Iteration 1340: B1=5.889820420132673, mse=56516.85841571943\n",
      "Iteration 1350: B1=5.889820420132673, mse=56516.85841571943\n",
      "Iteration 1360: B1=5.889820420132673, mse=56516.85841571943\n",
      "Iteration 1370: B1=5.889820420132673, mse=56516.85841571943\n",
      "Iteration 1380: B1=5.889820420132673, mse=56516.85841571943\n",
      "Iteration 1390: B1=5.889820420132673, mse=56516.85841571943\n",
      "Iteration 1400: B1=5.889820420132673, mse=56516.85841571943\n",
      "Iteration 1410: B1=5.889820420132673, mse=56516.85841571943\n",
      "Iteration 1420: B1=5.889820420132673, mse=56516.85841571943\n",
      "Iteration 1430: B1=5.889820420132673, mse=56516.85841571943\n",
      "Iteration 1440: B1=5.889820420132673, mse=56516.85841571943\n",
      "Iteration 1450: B1=5.889820420132673, mse=56516.85841571943\n",
      "Iteration 1460: B1=5.889820420132673, mse=56516.85841571943\n",
      "Iteration 1470: B1=5.889820420132673, mse=56516.85841571943\n",
      "Iteration 1480: B1=5.889820420132673, mse=56516.85841571943\n",
      "Iteration 1490: B1=5.889820420132673, mse=56516.85841571943\n",
      "Iteration 1500: B1=5.889820420132673, mse=56516.85841571943\n",
      "Iteration 1510: B1=5.889820420132673, mse=56516.85841571943\n",
      "Iteration 1520: B1=5.889820420132673, mse=56516.85841571943\n",
      "Iteration 1530: B1=5.889820420132673, mse=56516.85841571943\n",
      "Iteration 1540: B1=5.889820420132673, mse=56516.85841571943\n",
      "Iteration 1550: B1=5.889820420132673, mse=56516.85841571943\n",
      "Iteration 1560: B1=5.889820420132673, mse=56516.85841571943\n",
      "Iteration 1570: B1=5.889820420132673, mse=56516.85841571943\n",
      "Iteration 1580: B1=5.889820420132673, mse=56516.85841571943\n",
      "Iteration 1590: B1=5.889820420132673, mse=56516.85841571943\n",
      "Iteration 1600: B1=5.889820420132673, mse=56516.85841571943\n",
      "Iteration 1610: B1=5.889820420132673, mse=56516.85841571943\n",
      "Iteration 1620: B1=5.889820420132673, mse=56516.85841571943\n",
      "Iteration 1630: B1=5.889820420132673, mse=56516.85841571943\n",
      "Iteration 1640: B1=5.889820420132673, mse=56516.85841571943\n",
      "Iteration 1650: B1=5.889820420132673, mse=56516.85841571943\n",
      "Iteration 1660: B1=5.889820420132673, mse=56516.85841571943\n",
      "Iteration 1670: B1=5.889820420132673, mse=56516.85841571943\n",
      "Iteration 1680: B1=5.889820420132673, mse=56516.85841571943\n",
      "Iteration 1690: B1=5.889820420132673, mse=56516.85841571943\n",
      "Iteration 1700: B1=5.889820420132673, mse=56516.85841571943\n",
      "Iteration 1710: B1=5.889820420132673, mse=56516.85841571943\n",
      "Iteration 1720: B1=5.889820420132673, mse=56516.85841571943\n",
      "Iteration 1730: B1=5.889820420132673, mse=56516.85841571943\n",
      "Iteration 1740: B1=5.889820420132673, mse=56516.85841571943\n",
      "Iteration 1750: B1=5.889820420132673, mse=56516.85841571943\n",
      "Iteration 1760: B1=5.889820420132673, mse=56516.85841571943\n",
      "Iteration 1770: B1=5.889820420132673, mse=56516.85841571943\n",
      "Iteration 1780: B1=5.889820420132673, mse=56516.85841571943\n",
      "Iteration 1790: B1=5.889820420132673, mse=56516.85841571943\n",
      "Iteration 1800: B1=5.889820420132673, mse=56516.85841571943\n",
      "Iteration 1810: B1=5.889820420132673, mse=56516.85841571943\n",
      "Iteration 1820: B1=5.889820420132673, mse=56516.85841571943\n",
      "Iteration 1830: B1=5.889820420132673, mse=56516.85841571943\n",
      "Iteration 1840: B1=5.889820420132673, mse=56516.85841571943\n",
      "Iteration 1850: B1=5.889820420132673, mse=56516.85841571943\n",
      "Iteration 1860: B1=5.889820420132673, mse=56516.85841571943\n",
      "Iteration 1870: B1=5.889820420132673, mse=56516.85841571943\n",
      "Iteration 1880: B1=5.889820420132673, mse=56516.85841571943\n",
      "Iteration 1890: B1=5.889820420132673, mse=56516.85841571943\n",
      "Iteration 1900: B1=5.889820420132673, mse=56516.85841571943\n",
      "Iteration 1910: B1=5.889820420132673, mse=56516.85841571943\n",
      "Iteration 1920: B1=5.889820420132673, mse=56516.85841571943\n",
      "Iteration 1930: B1=5.889820420132673, mse=56516.85841571943\n",
      "Iteration 1940: B1=5.889820420132673, mse=56516.85841571943\n",
      "Iteration 1950: B1=5.889820420132673, mse=56516.85841571943\n",
      "Iteration 1960: B1=5.889820420132673, mse=56516.85841571943\n",
      "Iteration 1970: B1=5.889820420132673, mse=56516.85841571943\n",
      "Iteration 1980: B1=5.889820420132673, mse=56516.85841571943\n",
      "Iteration 1990: B1=5.889820420132673, mse=56516.85841571943\n",
      "Iteration 2000: B1=5.889820420132673, mse=56516.85841571943\n",
      "Iteration 2010: B1=5.889820420132673, mse=56516.85841571943\n",
      "Iteration 2020: B1=5.889820420132673, mse=56516.85841571943\n",
      "Iteration 2030: B1=5.889820420132673, mse=56516.85841571943\n",
      "Iteration 2040: B1=5.889820420132673, mse=56516.85841571943\n",
      "Iteration 2050: B1=5.889820420132673, mse=56516.85841571943\n",
      "Iteration 2060: B1=5.889820420132673, mse=56516.85841571943\n",
      "Iteration 2070: B1=5.889820420132673, mse=56516.85841571943\n",
      "Iteration 2080: B1=5.889820420132673, mse=56516.85841571943\n",
      "Iteration 2090: B1=5.889820420132673, mse=56516.85841571943\n",
      "Iteration 2100: B1=5.889820420132673, mse=56516.85841571943\n",
      "Iteration 2110: B1=5.889820420132673, mse=56516.85841571943\n",
      "Iteration 2120: B1=5.889820420132673, mse=56516.85841571943\n",
      "Iteration 2130: B1=5.889820420132673, mse=56516.85841571943\n",
      "Iteration 2140: B1=5.889820420132673, mse=56516.85841571943\n",
      "Iteration 2150: B1=5.889820420132673, mse=56516.85841571943\n",
      "Iteration 2160: B1=5.889820420132673, mse=56516.85841571943\n",
      "Iteration 2170: B1=5.889820420132673, mse=56516.85841571943\n",
      "Iteration 2180: B1=5.889820420132673, mse=56516.85841571943\n",
      "Iteration 2190: B1=5.889820420132673, mse=56516.85841571943\n",
      "Iteration 2200: B1=5.889820420132673, mse=56516.85841571943\n",
      "Iteration 2210: B1=5.889820420132673, mse=56516.85841571943\n",
      "Iteration 2220: B1=5.889820420132673, mse=56516.85841571943\n",
      "Iteration 2230: B1=5.889820420132673, mse=56516.85841571943\n",
      "Iteration 2240: B1=5.889820420132673, mse=56516.85841571943\n",
      "Iteration 2250: B1=5.889820420132673, mse=56516.85841571943\n",
      "Iteration 2260: B1=5.889820420132673, mse=56516.85841571943\n",
      "Iteration 2270: B1=5.889820420132673, mse=56516.85841571943\n",
      "Iteration 2280: B1=5.889820420132673, mse=56516.85841571943\n",
      "Iteration 2290: B1=5.889820420132673, mse=56516.85841571943\n",
      "Iteration 2300: B1=5.889820420132673, mse=56516.85841571943\n",
      "Iteration 2310: B1=5.889820420132673, mse=56516.85841571943\n",
      "Iteration 2320: B1=5.889820420132673, mse=56516.85841571943\n",
      "Iteration 2330: B1=5.889820420132673, mse=56516.85841571943\n",
      "Iteration 2340: B1=5.889820420132673, mse=56516.85841571943\n",
      "Iteration 2350: B1=5.889820420132673, mse=56516.85841571943\n",
      "Iteration 2360: B1=5.889820420132673, mse=56516.85841571943\n",
      "Iteration 2370: B1=5.889820420132673, mse=56516.85841571943\n",
      "Iteration 2380: B1=5.889820420132673, mse=56516.85841571943\n",
      "Iteration 2390: B1=5.889820420132673, mse=56516.85841571943\n",
      "Iteration 2400: B1=5.889820420132673, mse=56516.85841571943\n",
      "Iteration 2410: B1=5.889820420132673, mse=56516.85841571943\n",
      "Iteration 2420: B1=5.889820420132673, mse=56516.85841571943\n",
      "Iteration 2430: B1=5.889820420132673, mse=56516.85841571943\n",
      "Iteration 2440: B1=5.889820420132673, mse=56516.85841571943\n",
      "Iteration 2450: B1=5.889820420132673, mse=56516.85841571943\n",
      "Iteration 2460: B1=5.889820420132673, mse=56516.85841571943\n",
      "Iteration 2470: B1=5.889820420132673, mse=56516.85841571943\n",
      "Iteration 2480: B1=5.889820420132673, mse=56516.85841571943\n",
      "Iteration 2490: B1=5.889820420132673, mse=56516.85841571943\n",
      "Iteration 2500: B1=5.889820420132673, mse=56516.85841571943\n",
      "Iteration 2510: B1=5.889820420132673, mse=56516.85841571943\n",
      "Iteration 2520: B1=5.889820420132673, mse=56516.85841571943\n",
      "Iteration 2530: B1=5.889820420132673, mse=56516.85841571943\n",
      "Iteration 2540: B1=5.889820420132673, mse=56516.85841571943\n",
      "Iteration 2550: B1=5.889820420132673, mse=56516.85841571943\n",
      "Iteration 2560: B1=5.889820420132673, mse=56516.85841571943\n",
      "Iteration 2570: B1=5.889820420132673, mse=56516.85841571943\n",
      "Iteration 2580: B1=5.889820420132673, mse=56516.85841571943\n",
      "Iteration 2590: B1=5.889820420132673, mse=56516.85841571943\n",
      "Iteration 2600: B1=5.889820420132673, mse=56516.85841571943\n",
      "Iteration 2610: B1=5.889820420132673, mse=56516.85841571943\n",
      "Iteration 2620: B1=5.889820420132673, mse=56516.85841571943\n",
      "Iteration 2630: B1=5.889820420132673, mse=56516.85841571943\n",
      "Iteration 2640: B1=5.889820420132673, mse=56516.85841571943\n",
      "Iteration 2650: B1=5.889820420132673, mse=56516.85841571943\n",
      "Iteration 2660: B1=5.889820420132673, mse=56516.85841571943\n",
      "Iteration 2670: B1=5.889820420132673, mse=56516.85841571943\n",
      "Iteration 2680: B1=5.889820420132673, mse=56516.85841571943\n",
      "Iteration 2690: B1=5.889820420132673, mse=56516.85841571943\n",
      "Iteration 2700: B1=5.889820420132673, mse=56516.85841571943\n",
      "Iteration 2710: B1=5.889820420132673, mse=56516.85841571943\n",
      "Iteration 2720: B1=5.889820420132673, mse=56516.85841571943\n",
      "Iteration 2730: B1=5.889820420132673, mse=56516.85841571943\n",
      "Iteration 2740: B1=5.889820420132673, mse=56516.85841571943\n",
      "Iteration 2750: B1=5.889820420132673, mse=56516.85841571943\n",
      "Iteration 2760: B1=5.889820420132673, mse=56516.85841571943\n",
      "Iteration 2770: B1=5.889820420132673, mse=56516.85841571943\n",
      "Iteration 2780: B1=5.889820420132673, mse=56516.85841571943\n",
      "Iteration 2790: B1=5.889820420132673, mse=56516.85841571943\n",
      "Iteration 2800: B1=5.889820420132673, mse=56516.85841571943\n",
      "Iteration 2810: B1=5.889820420132673, mse=56516.85841571943\n",
      "Iteration 2820: B1=5.889820420132673, mse=56516.85841571943\n",
      "Iteration 2830: B1=5.889820420132673, mse=56516.85841571943\n",
      "Iteration 2840: B1=5.889820420132673, mse=56516.85841571943\n",
      "Iteration 2850: B1=5.889820420132673, mse=56516.85841571943\n",
      "Iteration 2860: B1=5.889820420132673, mse=56516.85841571943\n",
      "Iteration 2870: B1=5.889820420132673, mse=56516.85841571943\n",
      "Iteration 2880: B1=5.889820420132673, mse=56516.85841571943\n",
      "Iteration 2890: B1=5.889820420132673, mse=56516.85841571943\n",
      "Iteration 2900: B1=5.889820420132673, mse=56516.85841571943\n",
      "Iteration 2910: B1=5.889820420132673, mse=56516.85841571943\n",
      "Iteration 2920: B1=5.889820420132673, mse=56516.85841571943\n",
      "Iteration 2930: B1=5.889820420132673, mse=56516.85841571943\n",
      "Iteration 2940: B1=5.889820420132673, mse=56516.85841571943\n",
      "Iteration 2950: B1=5.889820420132673, mse=56516.85841571943\n",
      "Iteration 2960: B1=5.889820420132673, mse=56516.85841571943\n",
      "Iteration 2970: B1=5.889820420132673, mse=56516.85841571943\n",
      "Iteration 2980: B1=5.889820420132673, mse=56516.85841571943\n",
      "Iteration 2990: B1=5.889820420132673, mse=56516.85841571943\n"
     ]
    }
   ],
   "source": [
    "for i in range(3000):\n",
    "    B1 -= alpha * (2 / n) * np.sum((ks - B1*zp) * (-zp))\n",
    "    if i % 10 == 0:\n",
    "        print(f'Iteration {i}: B1={B1}, mse={mse_(B1)}')"
   ]
  },
  {
   "cell_type": "markdown",
   "metadata": {},
   "source": [
    "получилось что B1 = 5.8898 (это все без интерсепта B0)"
   ]
  },
  {
   "cell_type": "markdown",
   "metadata": {},
   "source": [
    "Произвести вычисления как в пункте 2, но с вычислением intercept. Учесть, что изменение коэффициентов должно производиться\n",
    "на каждом шаге одновременно (то есть изменение одного коэффициента не должно влиять на изменение другого во время одной итерации)."
   ]
  },
  {
   "cell_type": "code",
   "execution_count": 838,
   "metadata": {},
   "outputs": [
    {
     "data": {
      "text/plain": [
       "array([ 35,  45, 190, 200,  40,  70,  54, 150, 120, 110])"
      ]
     },
     "execution_count": 838,
     "metadata": {},
     "output_type": "execute_result"
    }
   ],
   "source": [
    "zp = np.array([35, 45, 190, 200, 40, 70, 54, 150, 120, 110])\n",
    "zp"
   ]
  },
  {
   "cell_type": "code",
   "execution_count": 839,
   "metadata": {},
   "outputs": [
    {
     "data": {
      "text/plain": [
       "array([401, 574, 874, 919, 459, 739, 653, 902, 746, 832])"
      ]
     },
     "execution_count": 839,
     "metadata": {},
     "output_type": "execute_result"
    }
   ],
   "source": [
    "ks = np.array([401, 574, 874, 919, 459, 739, 653, 902, 746, 832])\n",
    "ks"
   ]
  },
  {
   "cell_type": "code",
   "execution_count": 840,
   "metadata": {},
   "outputs": [],
   "source": [
    "def mse_(B0, B1, y=ks, x=zp, n=10):\n",
    "    return np.sum((y - (B0 + B1 * x))**2) / n"
   ]
  },
  {
   "cell_type": "code",
   "execution_count": 841,
   "metadata": {},
   "outputs": [
    {
     "data": {
      "text/plain": [
       "5e-05"
      ]
     },
     "execution_count": 841,
     "metadata": {},
     "output_type": "execute_result"
    }
   ],
   "source": [
    "alpha = 5e-5\n",
    "alpha"
   ]
  },
  {
   "cell_type": "code",
   "execution_count": 842,
   "metadata": {},
   "outputs": [],
   "source": [
    "B0 = 0.1\n",
    "B1 = 0.1"
   ]
  },
  {
   "cell_type": "code",
   "execution_count": 843,
   "metadata": {},
   "outputs": [],
   "source": [
    "n = 10"
   ]
  },
  {
   "cell_type": "code",
   "execution_count": 844,
   "metadata": {},
   "outputs": [
    {
     "name": "stdout",
     "output_type": "stream",
     "text": [
      "Iteration 0: B0=0.169966,B1=8.074680544760001, mse=122318.06397097581\n",
      "Iteration 10000: B0=99.63944588565495,B1=5.156425913533925, mse=36582.05548914076\n",
      "Iteration 20000: B0=176.83480207766843,B1=4.588248374483324, mse=24600.363270732934\n",
      "Iteration 30000: B0=236.7341719071708,B1=4.147373712855302, mse=17386.293881109214\n",
      "Iteration 40000: B0=283.2128033036884,B1=3.8052791140606974, mse=13042.767423439807\n",
      "Iteration 50000: B0=319.27767648420047,B1=3.5398324356503275, mse=10427.569111705801\n",
      "Iteration 60000: B0=347.2620434598509,B1=3.333860346855704, mse=8852.981670752433\n",
      "Iteration 70000: B0=368.9763800418267,B1=3.1740372832691417, mse=7904.936699140194\n",
      "Iteration 80000: B0=385.8255163330167,B1=3.0500233365073157, mse=7334.127327222927\n",
      "Iteration 90000: B0=398.89952357644796,B1=2.9537953037921687, mse=6990.448125471097\n",
      "Iteration 100000: B0=409.0442373734796,B1=2.879127619051743, mse=6783.521961452364\n",
      "Iteration 110000: B0=416.91597983984525,B1=2.8211895838744083, mse=6658.933574557688\n",
      "Iteration 120000: B0=423.02402100261315,B1=2.7762328407816126, mse=6583.920024566936\n",
      "Iteration 130000: B0=427.76352651940203,B1=2.7413488695988426, mse=6538.755039109871\n",
      "Iteration 140000: B0=431.44112330453663,B1=2.7142808179170705, mse=6511.561606568848\n",
      "Iteration 150000: B0=434.29473705519484,B1=2.693277491833349, mse=6495.188684804794\n",
      "Iteration 160000: B0=436.5089850855584,B1=2.6769800607597714, mse=6485.330695502134\n",
      "Iteration 170000: B0=438.2271203233171,B1=2.664334146558434, mse=6479.395288585045\n",
      "Iteration 180000: B0=439.5602991970259,B1=2.654521609523253, mse=6475.821633330437\n",
      "Iteration 190000: B0=440.5947730092419,B1=2.6469076180368325, mse=6473.669967563069\n",
      "Iteration 200000: B0=441.3974680483413,B1=2.6409995775222037, mse=6472.374468908443\n",
      "Iteration 210000: B0=442.02031544977996,B1=2.6364152615579997, mse=6471.5944607912115\n",
      "Iteration 220000: B0=442.50361093135245,B1=2.6328580833687942, mse=6471.124824901747\n",
      "Iteration 230000: B0=442.87862176381464,B1=2.6300979078554425, mse=6470.842061346097\n",
      "Iteration 240000: B0=443.16960963733175,B1=2.6279561627813313, mse=6470.671811946081\n",
      "Iteration 250000: B0=443.39540029510493,B1=2.62629428586797, mse=6470.569306309746\n",
      "Iteration 260000: B0=443.57060148311973,B1=2.6250047603737503, mse=6470.507588585748\n",
      "Iteration 270000: B0=443.7065480124619,B1=2.6240041591939076, mse=6470.470428897837\n",
      "Iteration 280000: B0=443.8120350759257,B1=2.6232277474629813, mse=6470.448055383124\n",
      "Iteration 290000: B0=443.89388726158245,B1=2.622625294469608, mse=6470.434584490648\n",
      "Iteration 300000: B0=443.95740007610897,B1=2.622157823932053, mse=6470.426473787141\n",
      "Iteration 310000: B0=444.0066825427454,B1=2.621795092389728, mse=6470.421590405328\n",
      "Iteration 320000: B0=444.0449230385586,B1=2.6215136325730373, mse=6470.418650164945\n",
      "Iteration 330000: B0=444.0745955695778,B1=2.6212952351656855, mse=6470.416879872594\n",
      "Iteration 340000: B0=444.0976198290292,B1=2.6211257707351954, mse=6470.415813995449\n",
      "Iteration 350000: B0=444.1154853937451,B1=2.6209942756156086, mse=6470.415172240385\n",
      "Iteration 360000: B0=444.12934809379504,B1=2.6208922426023875, mse=6470.4147858454135\n",
      "Iteration 370000: B0=444.14010479002803,B1=2.620813070570603, mse=6470.414553200472\n",
      "Iteration 380000: B0=444.1484513973577,B1=2.6207516374087407, mse=6470.414413127044\n",
      "Iteration 390000: B0=444.1549279076548,B1=2.620703968638704, mse=6470.414328790082\n",
      "Iteration 400000: B0=444.15995332504406,B1=2.620666980283111, mse=6470.4142780115535\n",
      "Iteration 410000: B0=444.1638527737885,B1=2.6206382793443432, mse=6470.41424743826\n",
      "Iteration 420000: B0=444.1668785325158,B1=2.620616008987261, mse=6470.414229030353\n",
      "Iteration 430000: B0=444.1692263556206,B1=2.6205987284095213, mse=6470.414217947122\n",
      "Iteration 440000: B0=444.1710481377995,B1=2.62058531962736, mse=6470.414211274002\n",
      "Iteration 450000: B0=444.1724617410292,B1=2.6205749151465225, mse=6470.414207256183\n",
      "Iteration 460000: B0=444.17355861973596,B1=2.6205668418390724, mse=6470.414204837084\n",
      "Iteration 470000: B0=444.17440973755646,B1=2.6205605773945186, mse=6470.414203380567\n",
      "Iteration 480000: B0=444.175070158386,B1=2.6205557165285263, mse=6470.414202503613\n",
      "Iteration 490000: B0=444.1755826087878,B1=2.6205519447626773, mse=6470.414201975606\n",
      "Iteration 500000: B0=444.17598024224475,B1=2.6205490180788695, mse=6470.414201657696\n",
      "Iteration 510000: B0=444.1762887840374,B1=2.6205467471324666, mse=6470.414201466289\n",
      "Iteration 520000: B0=444.1765281955727,B1=2.6205449850024154, mse=6470.4142013510445\n",
      "Iteration 530000: B0=444.17671396581966,B1=2.620543617685948, mse=6470.4142012816565\n",
      "Iteration 540000: B0=444.17685811335593,B1=2.620542556723262, mse=6470.414201239877\n",
      "Iteration 550000: B0=444.17696996395443,B1=2.6205417334742878, mse=6470.414201214722\n",
      "Iteration 560000: B0=444.177056753893,B1=2.620541094678172, mse=6470.414201199574\n",
      "Iteration 570000: B0=444.1771240981367,B1=2.6205405990073376, mse=6470.414201190462\n",
      "Iteration 580000: B0=444.17717635357843,B1=2.6205402143939382, mse=6470.414201184966\n",
      "Iteration 590000: B0=444.17721690094004,B1=2.620539915955001, mse=6470.414201181659\n",
      "Iteration 600000: B0=444.17724836347435,B1=2.6205396843827113, mse=6470.41420117967\n",
      "Iteration 610000: B0=444.17727277667643,B1=2.620539504695309, mse=6470.414201178473\n",
      "Iteration 620000: B0=444.17729171998695,B1=2.620539365267705, mse=6470.414201177752\n",
      "Iteration 630000: B0=444.17730641896014,B1=2.6205392570795074, mse=6470.414201177317\n",
      "Iteration 640000: B0=444.1773178245555,B1=2.6205391731314127, mse=6470.4142011770555\n",
      "Iteration 650000: B0=444.1773266746748,B1=2.6205391079922737, mse=6470.414201176898\n",
      "Iteration 660000: B0=444.1773335418809,B1=2.6205390574478833, mse=6470.414201176803\n",
      "Iteration 670000: B0=444.17733887045813,B1=2.620539018228194, mse=6470.414201176749\n",
      "Iteration 680000: B0=444.1773430051414,B1=2.620538987795869, mse=6470.414201176713\n",
      "Iteration 690000: B0=444.17734621343016,B1=2.620538964182044, mse=6470.414201176691\n",
      "Iteration 700000: B0=444.17734870288626,B1=2.6205389458590114, mse=6470.414201176682\n",
      "Iteration 710000: B0=444.17735063456865,B1=2.6205389316413354, mse=6470.414201176674\n",
      "Iteration 720000: B0=444.177352133448,B1=2.6205389206092007, mse=6470.414201176663\n",
      "Iteration 730000: B0=444.17735329649673,B1=2.6205389120488647, mse=6470.414201176663\n",
      "Iteration 740000: B0=444.17735419895905,B1=2.620538905406512, mse=6470.414201176658\n",
      "Iteration 750000: B0=444.17735489922046,B1=2.620538900252409, mse=6470.414201176661\n",
      "Iteration 760000: B0=444.1773554425844,B1=2.6205388962531115, mse=6470.41420117666\n",
      "Iteration 770000: B0=444.1773558642053,B1=2.620538893149874, mse=6470.41420117666\n",
      "Iteration 780000: B0=444.1773561913597,B1=2.620538890741934, mse=6470.414201176661\n",
      "Iteration 790000: B0=444.1773564452139,B1=2.620538888873502, mse=6470.414201176662\n",
      "Iteration 800000: B0=444.1773566421911,B1=2.6205388874236997, mse=6470.41420117666\n",
      "Iteration 810000: B0=444.1773567950335,B1=2.620538886298741, mse=6470.41420117666\n",
      "Iteration 820000: B0=444.17735691363146,B1=2.6205388854258294, mse=6470.414201176657\n",
      "Iteration 830000: B0=444.1773570056567,B1=2.6205388847485, mse=6470.41420117666\n",
      "Iteration 840000: B0=444.17735707706396,B1=2.620538884222925, mse=6470.4142011766635\n",
      "Iteration 850000: B0=444.17735713247174,B1=2.620538883815109, mse=6470.414201176659\n",
      "Iteration 860000: B0=444.17735717546606,B1=2.62053888349866, mse=6470.41420117666\n",
      "Iteration 870000: B0=444.17735720882655,B1=2.620538883253118, mse=6470.41420117666\n",
      "Iteration 880000: B0=444.1773572347071,B1=2.620538883062631, mse=6470.414201176658\n",
      "Iteration 890000: B0=444.17735725479184,B1=2.620538882914802, mse=6470.414201176663\n",
      "Iteration 900000: B0=444.177357270376,B1=2.6205388828000986, mse=6470.414201176658\n",
      "Iteration 910000: B0=444.17735728247294,B1=2.620538882711062, mse=6470.414201176659\n",
      "Iteration 920000: B0=444.1773572918675,B1=2.6205388826419154, mse=6470.414201176662\n",
      "Iteration 930000: B0=444.17735729913204,B1=2.6205388825884466, mse=6470.414201176659\n",
      "Iteration 940000: B0=444.1773573047809,B1=2.6205388825468696, mse=6470.414201176658\n",
      "Iteration 950000: B0=444.17735730915825,B1=2.620538882514651, mse=6470.414201176656\n",
      "Iteration 960000: B0=444.17735731255567,B1=2.620538882489645, mse=6470.414201176658\n",
      "Iteration 970000: B0=444.1773573151735,B1=2.6205388824703775, mse=6470.414201176659\n",
      "Iteration 980000: B0=444.1773573172146,B1=2.6205388824553544, mse=6470.414201176658\n",
      "Iteration 990000: B0=444.1773573188658,B1=2.6205388824432005, mse=6470.414201176658\n"
     ]
    }
   ],
   "source": [
    "for i in range(1000000):\n",
    "    B0 += alpha * (2 / n) * np.sum((ks - (B0 + B1 * zp)))\n",
    "    B1 -= alpha * (2 / n) * np.sum((ks - (B0 + B1 * zp)) * (-zp))\n",
    "    if i % 10000 == 0:\n",
    "        print(f'Iteration {i}: B0={B0},B1={B1}, mse={mse_(B0, B1)}')"
   ]
  },
  {
   "cell_type": "markdown",
   "metadata": {},
   "source": [
    "### ANOVA (однофакторный диспирсионный анализ)"
   ]
  },
  {
   "cell_type": "code",
   "execution_count": 845,
   "metadata": {},
   "outputs": [],
   "source": [
    "from scipy import stats"
   ]
  },
  {
   "cell_type": "code",
   "execution_count": 846,
   "metadata": {},
   "outputs": [
    {
     "name": "stdout",
     "output_type": "stream",
     "text": [
      "\u001b[0;31mSignature:\u001b[0m \u001b[0mstats\u001b[0m\u001b[0;34m.\u001b[0m\u001b[0mf_oneway\u001b[0m\u001b[0;34m(\u001b[0m\u001b[0;34m*\u001b[0m\u001b[0msamples\u001b[0m\u001b[0;34m,\u001b[0m \u001b[0maxis\u001b[0m\u001b[0;34m=\u001b[0m\u001b[0;36m0\u001b[0m\u001b[0;34m,\u001b[0m \u001b[0mnan_policy\u001b[0m\u001b[0;34m=\u001b[0m\u001b[0;34m'propagate'\u001b[0m\u001b[0;34m,\u001b[0m \u001b[0mkeepdims\u001b[0m\u001b[0;34m=\u001b[0m\u001b[0;32mFalse\u001b[0m\u001b[0;34m)\u001b[0m\u001b[0;34m\u001b[0m\u001b[0;34m\u001b[0m\u001b[0m\n",
      "\u001b[0;31mDocstring:\u001b[0m\n",
      "Perform one-way ANOVA.\n",
      "\n",
      "The one-way ANOVA tests the null hypothesis that two or more groups have\n",
      "the same population mean.  The test is applied to samples from two or\n",
      "more groups, possibly with differing sizes.\n",
      "\n",
      "Parameters\n",
      "----------\n",
      "sample1, sample2, ... : array_like\n",
      "    The sample measurements for each group.  There must be at least\n",
      "    two arguments.  If the arrays are multidimensional, then all the\n",
      "    dimensions of the array must be the same except for `axis`.\n",
      "axis : int or None, default: 0\n",
      "    If an int, the axis of the input along which to compute the statistic.\n",
      "    The statistic of each axis-slice (e.g. row) of the input will appear in a\n",
      "    corresponding element of the output.\n",
      "    If ``None``, the input will be raveled before computing the statistic.\n",
      "nan_policy : {'propagate', 'omit', 'raise'}\n",
      "    Defines how to handle input NaNs.\n",
      "    \n",
      "    - ``propagate``: if a NaN is present in the axis slice (e.g. row) along\n",
      "      which the  statistic is computed, the corresponding entry of the output\n",
      "      will be NaN.\n",
      "    - ``omit``: NaNs will be omitted when performing the calculation.\n",
      "      If insufficient data remains in the axis slice along which the\n",
      "      statistic is computed, the corresponding entry of the output will be\n",
      "      NaN.\n",
      "    - ``raise``: if a NaN is present, a ``ValueError`` will be raised.\n",
      "keepdims : bool, default: False\n",
      "    If this is set to True, the axes which are reduced are left\n",
      "    in the result as dimensions with size one. With this option,\n",
      "    the result will broadcast correctly against the input array.\n",
      "\n",
      "Returns\n",
      "-------\n",
      "statistic : float\n",
      "    The computed F statistic of the test.\n",
      "pvalue : float\n",
      "    The associated p-value from the F distribution.\n",
      "\n",
      "Warns\n",
      "-----\n",
      "`~scipy.stats.ConstantInputWarning`\n",
      "    Raised if all values within each of the input arrays are identical.\n",
      "    In this case the F statistic is either infinite or isn't defined,\n",
      "    so ``np.inf`` or ``np.nan`` is returned.\n",
      "`~scipy.stats.DegenerateDataWarning`\n",
      "    Raised if the length of any input array is 0, or if all the input\n",
      "    arrays have length 1.  ``np.nan`` is returned for the F statistic\n",
      "    and the p-value in these cases.\n",
      "\n",
      "Notes\n",
      "-----\n",
      "The ANOVA test has important assumptions that must be satisfied in order\n",
      "for the associated p-value to be valid.\n",
      "\n",
      "1. The samples are independent.\n",
      "2. Each sample is from a normally distributed population.\n",
      "3. The population standard deviations of the groups are all equal.  This\n",
      "   property is known as homoscedasticity.\n",
      "\n",
      "If these assumptions are not true for a given set of data, it may still\n",
      "be possible to use the Kruskal-Wallis H-test (`scipy.stats.kruskal`) or\n",
      "the Alexander-Govern test (`scipy.stats.alexandergovern`) although with\n",
      "some loss of power.\n",
      "\n",
      "The length of each group must be at least one, and there must be at\n",
      "least one group with length greater than one.  If these conditions\n",
      "are not satisfied, a warning is generated and (``np.nan``, ``np.nan``)\n",
      "is returned.\n",
      "\n",
      "If all values in each group are identical, and there exist at least two\n",
      "groups with different values, the function generates a warning and\n",
      "returns (``np.inf``, 0).\n",
      "\n",
      "If all values in all groups are the same, function generates a warning\n",
      "and returns (``np.nan``, ``np.nan``).\n",
      "\n",
      "The algorithm is from Heiman [2]_, pp.394-7.\n",
      "\n",
      "Beginning in SciPy 1.9, ``np.matrix`` inputs (not recommended for new\n",
      "code) are converted to ``np.ndarray`` before the calculation is performed. In\n",
      "this case, the output will be a scalar or ``np.ndarray`` of appropriate shape\n",
      "rather than a 2D ``np.matrix``. Similarly, while masked elements of masked\n",
      "arrays are ignored, the output will be a scalar or ``np.ndarray`` rather than a\n",
      "masked array with ``mask=False``.\n",
      "\n",
      "References\n",
      "----------\n",
      ".. [1] R. Lowry, \"Concepts and Applications of Inferential Statistics\",\n",
      "       Chapter 14, 2014, http://vassarstats.net/textbook/\n",
      "\n",
      ".. [2] G.W. Heiman, \"Understanding research methods and statistics: An\n",
      "       integrated introduction for psychology\", Houghton, Mifflin and\n",
      "       Company, 2001.\n",
      "\n",
      ".. [3] G.H. McDonald, \"Handbook of Biological Statistics\", One-way ANOVA.\n",
      "       http://www.biostathandbook.com/onewayanova.html\n",
      "\n",
      "Examples\n",
      "--------\n",
      ">>> import numpy as np\n",
      ">>> from scipy.stats import f_oneway\n",
      "\n",
      "Here are some data [3]_ on a shell measurement (the length of the anterior\n",
      "adductor muscle scar, standardized by dividing by length) in the mussel\n",
      "Mytilus trossulus from five locations: Tillamook, Oregon; Newport, Oregon;\n",
      "Petersburg, Alaska; Magadan, Russia; and Tvarminne, Finland, taken from a\n",
      "much larger data set used in McDonald et al. (1991).\n",
      "\n",
      ">>> tillamook = [0.0571, 0.0813, 0.0831, 0.0976, 0.0817, 0.0859, 0.0735,\n",
      "...              0.0659, 0.0923, 0.0836]\n",
      ">>> newport = [0.0873, 0.0662, 0.0672, 0.0819, 0.0749, 0.0649, 0.0835,\n",
      "...            0.0725]\n",
      ">>> petersburg = [0.0974, 0.1352, 0.0817, 0.1016, 0.0968, 0.1064, 0.105]\n",
      ">>> magadan = [0.1033, 0.0915, 0.0781, 0.0685, 0.0677, 0.0697, 0.0764,\n",
      "...            0.0689]\n",
      ">>> tvarminne = [0.0703, 0.1026, 0.0956, 0.0973, 0.1039, 0.1045]\n",
      ">>> f_oneway(tillamook, newport, petersburg, magadan, tvarminne)\n",
      "F_onewayResult(statistic=7.121019471642447, pvalue=0.0002812242314534544)\n",
      "\n",
      "`f_oneway` accepts multidimensional input arrays.  When the inputs\n",
      "are multidimensional and `axis` is not given, the test is performed\n",
      "along the first axis of the input arrays.  For the following data, the\n",
      "test is performed three times, once for each column.\n",
      "\n",
      ">>> a = np.array([[9.87, 9.03, 6.81],\n",
      "...               [7.18, 8.35, 7.00],\n",
      "...               [8.39, 7.58, 7.68],\n",
      "...               [7.45, 6.33, 9.35],\n",
      "...               [6.41, 7.10, 9.33],\n",
      "...               [8.00, 8.24, 8.44]])\n",
      ">>> b = np.array([[6.35, 7.30, 7.16],\n",
      "...               [6.65, 6.68, 7.63],\n",
      "...               [5.72, 7.73, 6.72],\n",
      "...               [7.01, 9.19, 7.41],\n",
      "...               [7.75, 7.87, 8.30],\n",
      "...               [6.90, 7.97, 6.97]])\n",
      ">>> c = np.array([[3.31, 8.77, 1.01],\n",
      "...               [8.25, 3.24, 3.62],\n",
      "...               [6.32, 8.81, 5.19],\n",
      "...               [7.48, 8.83, 8.91],\n",
      "...               [8.59, 6.01, 6.07],\n",
      "...               [3.07, 9.72, 7.48]])\n",
      ">>> F, p = f_oneway(a, b, c)\n",
      ">>> F\n",
      "array([1.75676344, 0.03701228, 3.76439349])\n",
      ">>> p\n",
      "array([0.20630784, 0.96375203, 0.04733157])\n",
      "\u001b[0;31mFile:\u001b[0m      ~/Library/Python/3.9/lib/python/site-packages/scipy/stats/_stats_py.py\n",
      "\u001b[0;31mType:\u001b[0m      function"
     ]
    }
   ],
   "source": [
    "stats.f_oneway?"
   ]
  },
  {
   "cell_type": "code",
   "execution_count": 847,
   "metadata": {},
   "outputs": [
    {
     "data": {
      "text/plain": [
       "array([70, 50, 65, 60, 75])"
      ]
     },
     "execution_count": 847,
     "metadata": {},
     "output_type": "execute_result"
    }
   ],
   "source": [
    "y1 = np.array([70, 50, 65, 60, 75])\n",
    "y1"
   ]
  },
  {
   "cell_type": "code",
   "execution_count": 848,
   "metadata": {},
   "outputs": [
    {
     "data": {
      "text/plain": [
       "array([ 80,  75,  90,  70,  75,  65,  85, 100])"
      ]
     },
     "execution_count": 848,
     "metadata": {},
     "output_type": "execute_result"
    }
   ],
   "source": [
    "y2 = np.array([80, 75, 90, 70, 75, 65, 85, 100])\n",
    "y2"
   ]
  },
  {
   "cell_type": "code",
   "execution_count": 849,
   "metadata": {},
   "outputs": [
    {
     "data": {
      "text/plain": [
       "array([130, 100, 140, 150, 160, 170, 200])"
      ]
     },
     "execution_count": 849,
     "metadata": {},
     "output_type": "execute_result"
    }
   ],
   "source": [
    "y3 = np.array([130, 100, 140, 150, 160, 170, 200])\n",
    "y3"
   ]
  },
  {
   "cell_type": "code",
   "execution_count": 850,
   "metadata": {},
   "outputs": [
    {
     "data": {
      "text/plain": [
       "F_onewayResult(statistic=np.float64(31.77269601100413), pvalue=np.float64(1.8091304567650962e-06))"
      ]
     },
     "execution_count": 850,
     "metadata": {},
     "output_type": "execute_result"
    }
   ],
   "source": [
    "stats.f_oneway(y1, y2, y3)"
   ]
  },
  {
   "cell_type": "markdown",
   "metadata": {},
   "source": [
    "### 2-WAY ANOVA"
   ]
  },
  {
   "cell_type": "code",
   "execution_count": 851,
   "metadata": {},
   "outputs": [],
   "source": [
    "y111 = 57"
   ]
  },
  {
   "cell_type": "code",
   "execution_count": 852,
   "metadata": {},
   "outputs": [],
   "source": [
    "y112 = 59"
   ]
  },
  {
   "cell_type": "code",
   "execution_count": 853,
   "metadata": {},
   "outputs": [
    {
     "data": {
      "text/plain": [
       "58.0"
      ]
     },
     "execution_count": 853,
     "metadata": {},
     "output_type": "execute_result"
    }
   ],
   "source": [
    "y11 = (y111 + y112) / 2\n",
    "y11"
   ]
  },
  {
   "cell_type": "code",
   "execution_count": 854,
   "metadata": {},
   "outputs": [],
   "source": [
    "y121 = 56"
   ]
  },
  {
   "cell_type": "code",
   "execution_count": 855,
   "metadata": {},
   "outputs": [],
   "source": [
    "y122 = 58"
   ]
  },
  {
   "cell_type": "code",
   "execution_count": 856,
   "metadata": {},
   "outputs": [
    {
     "data": {
      "text/plain": [
       "57.0"
      ]
     },
     "execution_count": 856,
     "metadata": {},
     "output_type": "execute_result"
    }
   ],
   "source": [
    "y12 = (y121 + y122) / 2\n",
    "y12"
   ]
  },
  {
   "cell_type": "code",
   "execution_count": 857,
   "metadata": {},
   "outputs": [],
   "source": [
    "y211 = 32"
   ]
  },
  {
   "cell_type": "code",
   "execution_count": 858,
   "metadata": {},
   "outputs": [],
   "source": [
    "y212 = 34"
   ]
  },
  {
   "cell_type": "code",
   "execution_count": 859,
   "metadata": {},
   "outputs": [
    {
     "data": {
      "text/plain": [
       "33.0"
      ]
     },
     "execution_count": 859,
     "metadata": {},
     "output_type": "execute_result"
    }
   ],
   "source": [
    "y21 = (y211 + y212) / 2\n",
    "y21"
   ]
  },
  {
   "cell_type": "code",
   "execution_count": 860,
   "metadata": {},
   "outputs": [],
   "source": [
    "y221 = 71"
   ]
  },
  {
   "cell_type": "code",
   "execution_count": 861,
   "metadata": {},
   "outputs": [],
   "source": [
    "y222 = 71"
   ]
  },
  {
   "cell_type": "code",
   "execution_count": 862,
   "metadata": {},
   "outputs": [
    {
     "data": {
      "text/plain": [
       "71.0"
      ]
     },
     "execution_count": 862,
     "metadata": {},
     "output_type": "execute_result"
    }
   ],
   "source": [
    "y22 = (y221 + y222) / 2\n",
    "y22"
   ]
  },
  {
   "cell_type": "code",
   "execution_count": 863,
   "metadata": {},
   "outputs": [
    {
     "data": {
      "text/plain": [
       "57.5"
      ]
     },
     "execution_count": 863,
     "metadata": {},
     "output_type": "execute_result"
    }
   ],
   "source": [
    "YcpA1 = (y11 + y12) / 2\n",
    "YcpA1"
   ]
  },
  {
   "cell_type": "code",
   "execution_count": 864,
   "metadata": {},
   "outputs": [
    {
     "data": {
      "text/plain": [
       "52.0"
      ]
     },
     "execution_count": 864,
     "metadata": {},
     "output_type": "execute_result"
    }
   ],
   "source": [
    "YcpA2 = (y21 + y22) / 2\n",
    "YcpA2"
   ]
  },
  {
   "cell_type": "code",
   "execution_count": 865,
   "metadata": {},
   "outputs": [
    {
     "data": {
      "text/plain": [
       "45.5"
      ]
     },
     "execution_count": 865,
     "metadata": {},
     "output_type": "execute_result"
    }
   ],
   "source": [
    "YcpB1 = (y11 + y21) / 2\n",
    "YcpB1"
   ]
  },
  {
   "cell_type": "code",
   "execution_count": 866,
   "metadata": {},
   "outputs": [
    {
     "data": {
      "text/plain": [
       "64.0"
      ]
     },
     "execution_count": 866,
     "metadata": {},
     "output_type": "execute_result"
    }
   ],
   "source": [
    "YcpB2 = (y12 + y22) / 2\n",
    "YcpB2"
   ]
  },
  {
   "cell_type": "code",
   "execution_count": 867,
   "metadata": {},
   "outputs": [
    {
     "data": {
      "text/plain": [
       "54.75"
      ]
     },
     "execution_count": 867,
     "metadata": {},
     "output_type": "execute_result"
    }
   ],
   "source": [
    "Ycp = (YcpA1 + YcpA2 + YcpB1 + YcpB2) / 4\n",
    "Ycp"
   ]
  },
  {
   "cell_type": "markdown",
   "metadata": {},
   "source": [
    "дальше все в тетради написано"
   ]
  },
  {
   "cell_type": "markdown",
   "metadata": {},
   "source": [
    "#### Нормальный метод"
   ]
  },
  {
   "cell_type": "code",
   "execution_count": 868,
   "metadata": {},
   "outputs": [],
   "source": [
    "import statsmodels.api as sm\n",
    "from statsmodels.formula.api import ols\n",
    "import pandas as pd"
   ]
  },
  {
   "cell_type": "code",
   "execution_count": null,
   "metadata": {},
   "outputs": [],
   "source": [
    "fa = ['low', 'low', 'low', 'low', 'high', 'high', 'high', 'high'] # уровни"
   ]
  },
  {
   "cell_type": "code",
   "execution_count": null,
   "metadata": {},
   "outputs": [],
   "source": [
    "fb = ['low', 'low', 'high', 'high', 'low', 'low', 'high', 'high'] # уровни"
   ]
  },
  {
   "cell_type": "code",
   "execution_count": 874,
   "metadata": {},
   "outputs": [],
   "source": [
    "treatments = [57, 59, 56, 58, 32, 34, 71, 71]"
   ]
  },
  {
   "cell_type": "code",
   "execution_count": 881,
   "metadata": {},
   "outputs": [
    {
     "data": {
      "text/html": [
       "<div>\n",
       "<style scoped>\n",
       "    .dataframe tbody tr th:only-of-type {\n",
       "        vertical-align: middle;\n",
       "    }\n",
       "\n",
       "    .dataframe tbody tr th {\n",
       "        vertical-align: top;\n",
       "    }\n",
       "\n",
       "    .dataframe thead th {\n",
       "        text-align: right;\n",
       "    }\n",
       "</style>\n",
       "<table border=\"1\" class=\"dataframe\">\n",
       "  <thead>\n",
       "    <tr style=\"text-align: right;\">\n",
       "      <th></th>\n",
       "      <th>fA</th>\n",
       "      <th>fb</th>\n",
       "      <th>treatments</th>\n",
       "    </tr>\n",
       "  </thead>\n",
       "  <tbody>\n",
       "    <tr>\n",
       "      <th>0</th>\n",
       "      <td>low</td>\n",
       "      <td>low</td>\n",
       "      <td>57</td>\n",
       "    </tr>\n",
       "    <tr>\n",
       "      <th>1</th>\n",
       "      <td>low</td>\n",
       "      <td>low</td>\n",
       "      <td>59</td>\n",
       "    </tr>\n",
       "    <tr>\n",
       "      <th>2</th>\n",
       "      <td>low</td>\n",
       "      <td>high</td>\n",
       "      <td>56</td>\n",
       "    </tr>\n",
       "    <tr>\n",
       "      <th>3</th>\n",
       "      <td>low</td>\n",
       "      <td>high</td>\n",
       "      <td>58</td>\n",
       "    </tr>\n",
       "    <tr>\n",
       "      <th>4</th>\n",
       "      <td>high</td>\n",
       "      <td>low</td>\n",
       "      <td>32</td>\n",
       "    </tr>\n",
       "    <tr>\n",
       "      <th>5</th>\n",
       "      <td>high</td>\n",
       "      <td>low</td>\n",
       "      <td>34</td>\n",
       "    </tr>\n",
       "    <tr>\n",
       "      <th>6</th>\n",
       "      <td>high</td>\n",
       "      <td>high</td>\n",
       "      <td>71</td>\n",
       "    </tr>\n",
       "    <tr>\n",
       "      <th>7</th>\n",
       "      <td>high</td>\n",
       "      <td>high</td>\n",
       "      <td>71</td>\n",
       "    </tr>\n",
       "  </tbody>\n",
       "</table>\n",
       "</div>"
      ],
      "text/plain": [
       "     fA    fb  treatments\n",
       "0   low   low          57\n",
       "1   low   low          59\n",
       "2   low  high          56\n",
       "3   low  high          58\n",
       "4  high   low          32\n",
       "5  high   low          34\n",
       "6  high  high          71\n",
       "7  high  high          71"
      ]
     },
     "execution_count": 881,
     "metadata": {},
     "output_type": "execute_result"
    }
   ],
   "source": [
    "df = pd.DataFrame({'fA': fa, 'fb': fb, 'treatments': treatments})\n",
    "df"
   ]
  },
  {
   "cell_type": "code",
   "execution_count": 883,
   "metadata": {},
   "outputs": [],
   "source": [
    "lm_model = ols('treatments ~ C(fa) * C(fb)', data=df).fit()"
   ]
  },
  {
   "cell_type": "code",
   "execution_count": 884,
   "metadata": {},
   "outputs": [
    {
     "data": {
      "text/html": [
       "<div>\n",
       "<style scoped>\n",
       "    .dataframe tbody tr th:only-of-type {\n",
       "        vertical-align: middle;\n",
       "    }\n",
       "\n",
       "    .dataframe tbody tr th {\n",
       "        vertical-align: top;\n",
       "    }\n",
       "\n",
       "    .dataframe thead th {\n",
       "        text-align: right;\n",
       "    }\n",
       "</style>\n",
       "<table border=\"1\" class=\"dataframe\">\n",
       "  <thead>\n",
       "    <tr style=\"text-align: right;\">\n",
       "      <th></th>\n",
       "      <th>sum_sq</th>\n",
       "      <th>df</th>\n",
       "      <th>F</th>\n",
       "      <th>PR(&gt;F)</th>\n",
       "    </tr>\n",
       "  </thead>\n",
       "  <tbody>\n",
       "    <tr>\n",
       "      <th>C(fa)</th>\n",
       "      <td>60.5</td>\n",
       "      <td>1.0</td>\n",
       "      <td>40.333333</td>\n",
       "      <td>0.003150</td>\n",
       "    </tr>\n",
       "    <tr>\n",
       "      <th>C(fb)</th>\n",
       "      <td>684.5</td>\n",
       "      <td>1.0</td>\n",
       "      <td>456.333333</td>\n",
       "      <td>0.000028</td>\n",
       "    </tr>\n",
       "    <tr>\n",
       "      <th>C(fa):C(fb)</th>\n",
       "      <td>760.5</td>\n",
       "      <td>1.0</td>\n",
       "      <td>507.000000</td>\n",
       "      <td>0.000023</td>\n",
       "    </tr>\n",
       "    <tr>\n",
       "      <th>Residual</th>\n",
       "      <td>6.0</td>\n",
       "      <td>4.0</td>\n",
       "      <td>NaN</td>\n",
       "      <td>NaN</td>\n",
       "    </tr>\n",
       "  </tbody>\n",
       "</table>\n",
       "</div>"
      ],
      "text/plain": [
       "             sum_sq   df           F    PR(>F)\n",
       "C(fa)          60.5  1.0   40.333333  0.003150\n",
       "C(fb)         684.5  1.0  456.333333  0.000028\n",
       "C(fa):C(fb)   760.5  1.0  507.000000  0.000023\n",
       "Residual        6.0  4.0         NaN       NaN"
      ]
     },
     "execution_count": 884,
     "metadata": {},
     "output_type": "execute_result"
    }
   ],
   "source": [
    "table = sm.stats.anova_lm(lm_model, typ=2)\n",
    "table"
   ]
  },
  {
   "cell_type": "markdown",
   "metadata": {},
   "source": [
    "Везде принимаем альтернативную гипотезу"
   ]
  },
  {
   "cell_type": "markdown",
   "metadata": {},
   "source": [
    "Провести дисперсионный анализ для определения того, есть ли различия среднего роста среди взрослых футболистов, хоккеистов и штангистов. Даны значения роста в трех группах случайно выбранных спортсменов: Футболисты: 173, 175, 180, 178, 177, 185, 183, 182. Хоккеисты: 177, 179, 180, 188, 177, 172, 171, 184, 180. Штангисты: 172, 173, 169, 177, 166, 180, 178, 177, 172, 166, 170."
   ]
  },
  {
   "cell_type": "code",
   "execution_count": 885,
   "metadata": {},
   "outputs": [],
   "source": [
    "a = [173, 175, 180, 178, 177, 185, 183, 182]"
   ]
  },
  {
   "cell_type": "code",
   "execution_count": 886,
   "metadata": {},
   "outputs": [],
   "source": [
    "b = [177, 179, 180, 188, 177, 172, 171, 184, 180]"
   ]
  },
  {
   "cell_type": "code",
   "execution_count": 887,
   "metadata": {},
   "outputs": [],
   "source": [
    "c = [172, 173, 169, 177, 166, 180, 178, 177, 172, 166, 170]"
   ]
  },
  {
   "cell_type": "code",
   "execution_count": 890,
   "metadata": {},
   "outputs": [
    {
     "data": {
      "text/plain": [
       "F_onewayResult(statistic=np.float64(5.500053450812596), pvalue=np.float64(0.010482206918698694))"
      ]
     },
     "execution_count": 890,
     "metadata": {},
     "output_type": "execute_result"
    }
   ],
   "source": [
    "sp.stats.f_oneway(a, b, c)"
   ]
  }
 ],
 "metadata": {
  "kernelspec": {
   "display_name": "Python 3",
   "language": "python",
   "name": "python3"
  },
  "language_info": {
   "codemirror_mode": {
    "name": "ipython",
    "version": 3
   },
   "file_extension": ".py",
   "mimetype": "text/x-python",
   "name": "python",
   "nbconvert_exporter": "python",
   "pygments_lexer": "ipython3",
   "version": "3.9.6"
  }
 },
 "nbformat": 4,
 "nbformat_minor": 2
}
