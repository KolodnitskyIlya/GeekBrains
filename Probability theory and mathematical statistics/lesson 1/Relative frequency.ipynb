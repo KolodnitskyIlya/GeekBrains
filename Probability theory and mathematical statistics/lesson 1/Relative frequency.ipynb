{
 "cells": [
  {
   "cell_type": "markdown",
   "metadata": {},
   "source": [
    "### Задание 1"
   ]
  },
  {
   "cell_type": "markdown",
   "metadata": {},
   "source": [
    "Смоделируем 60-кратное подбрасывание игральной кости с помощью функции random.randint пакета numpy, то есть n = 60.\n",
    "\n",
    "Событие A будем считать выпадение числа 3 и найдем его относительную частоту."
   ]
  },
  {
   "cell_type": "code",
   "execution_count": 1,
   "metadata": {},
   "outputs": [],
   "source": [
    "import numpy as np"
   ]
  },
  {
   "cell_type": "code",
   "execution_count": 15,
   "metadata": {},
   "outputs": [
    {
     "data": {
      "text/plain": [
       "array([6, 4, 5, 1, 2, 4, 6, 1, 1, 2, 5, 6, 5, 2, 3, 5, 6, 3, 5, 4, 5, 3,\n",
       "       5, 6, 3, 5, 2, 2, 1, 6, 2, 2, 6, 2, 2, 1, 5, 2, 1, 1, 6, 4, 3, 2,\n",
       "       1, 4, 6, 2, 2, 4, 5, 1, 2, 4, 5, 3, 5, 1, 6, 4])"
      ]
     },
     "execution_count": 15,
     "metadata": {},
     "output_type": "execute_result"
    }
   ],
   "source": [
    "np.random.seed(1)\n",
    "n = 60\n",
    "a = np.random.randint(1, 7, n)\n",
    "a"
   ]
  },
  {
   "cell_type": "code",
   "execution_count": 16,
   "metadata": {},
   "outputs": [
    {
     "data": {
      "text/plain": [
       "6"
      ]
     },
     "execution_count": 16,
     "metadata": {},
     "output_type": "execute_result"
    }
   ],
   "source": [
    "m = a[a == 3].size\n",
    "m"
   ]
  },
  {
   "cell_type": "code",
   "execution_count": 17,
   "metadata": {},
   "outputs": [
    {
     "data": {
      "text/plain": [
       "0.1"
      ]
     },
     "execution_count": 17,
     "metadata": {},
     "output_type": "execute_result"
    }
   ],
   "source": [
    "W = m / n\n",
    "W"
   ]
  },
  {
   "cell_type": "markdown",
   "metadata": {},
   "source": [
    "### Задание 2"
   ]
  },
  {
   "cell_type": "markdown",
   "metadata": {},
   "source": [
    "Смоделируем ситуацию, когда бросают две игральные кости одновременно. \n",
    "\n",
    "При этом будем находить частоту случайного события B, при котором на одной кости выпало 1, а на другой - 2.\n",
    "\n",
    "Проведем для этого 360 испытаний. Сразу зададим число n:"
   ]
  },
  {
   "cell_type": "code",
   "execution_count": 18,
   "metadata": {},
   "outputs": [],
   "source": [
    "n = 360"
   ]
  },
  {
   "cell_type": "code",
   "execution_count": 19,
   "metadata": {},
   "outputs": [],
   "source": [
    "c = np.random.randint(1, 7, n)\n",
    "d = np.random.randint(1, 7, n)"
   ]
  },
  {
   "cell_type": "code",
   "execution_count": 20,
   "metadata": {},
   "outputs": [
    {
     "data": {
      "text/plain": [
       "array([2, 3, 1, 5, 2, 3, 3, 2, 1, 2, 4, 6, 5, 4, 6, 2, 4, 1, 1, 3, 3, 2,\n",
       "       4, 5, 3, 1, 1, 2, 2, 6, 4, 1, 1, 6, 6, 5, 6, 3, 5, 4, 6, 4, 6, 1,\n",
       "       4, 5, 4, 5, 5, 6, 5, 2, 1, 5, 3, 1, 6, 3, 5, 2, 2, 1, 3, 5, 5, 1,\n",
       "       5, 2, 5, 2, 1, 3, 4, 2, 3, 5, 5, 3, 3, 1, 2, 3, 3, 1, 6, 2, 3, 5,\n",
       "       1, 6, 6, 2, 3, 2, 6, 5, 3, 1, 6, 1, 2, 6, 1, 2, 4, 2, 2, 6, 5, 5,\n",
       "       4, 6, 1, 4, 1, 4, 2, 3, 6, 6, 5, 6, 1, 6, 1, 6, 4, 2, 2, 6, 1, 6,\n",
       "       1, 5, 3, 6, 4, 5, 3, 1, 6, 4, 4, 6, 6, 2, 3, 5, 4, 1, 1, 6, 5, 3,\n",
       "       5, 3, 1, 6, 4, 1, 1, 5, 6, 3, 2, 1, 5, 4, 1, 2, 3, 5, 5, 4, 4, 4,\n",
       "       4, 3, 4, 4, 6, 5, 4, 3, 5, 5, 1, 4, 4, 1, 4, 6, 6, 2, 1, 3, 3, 3,\n",
       "       1, 3, 2, 5, 1, 5, 5, 2, 4, 2, 5, 2, 3, 6, 2, 1, 1, 3, 5, 2, 1, 1,\n",
       "       4, 2, 1, 5, 4, 3, 4, 5, 6, 5, 4, 1, 1, 1, 5, 6, 2, 6, 5, 2, 3, 6,\n",
       "       3, 6, 5, 6, 4, 5, 5, 1, 4, 3, 5, 6, 4, 5, 3, 4, 1, 6, 6, 3, 2, 4,\n",
       "       3, 1, 6, 2, 5, 2, 4, 4, 2, 3, 1, 3, 5, 1, 3, 5, 4, 5, 4, 1, 6, 6,\n",
       "       5, 3, 3, 5, 2, 3, 6, 2, 2, 2, 1, 6, 6, 5, 5, 3, 3, 4, 2, 5, 1, 1,\n",
       "       4, 3, 5, 2, 4, 2, 2, 3, 6, 6, 5, 6, 1, 4, 1, 5, 3, 4, 6, 2, 2, 5,\n",
       "       5, 1, 3, 2, 4, 1, 2, 1, 6, 3, 3, 5, 4, 3, 3, 3, 1, 6, 3, 1, 5, 6,\n",
       "       2, 6, 1, 3, 4, 1, 5, 4])"
      ]
     },
     "execution_count": 20,
     "metadata": {},
     "output_type": "execute_result"
    }
   ],
   "source": [
    "c"
   ]
  },
  {
   "cell_type": "code",
   "execution_count": 21,
   "metadata": {},
   "outputs": [
    {
     "data": {
      "text/plain": [
       "array([4, 4, 1, 4, 2, 3, 1, 2, 5, 3, 4, 5, 6, 5, 3, 2, 3, 6, 1, 6, 4, 6,\n",
       "       4, 3, 1, 1, 1, 1, 3, 5, 1, 5, 2, 3, 2, 3, 5, 2, 4, 6, 2, 6, 2, 3,\n",
       "       5, 2, 1, 3, 6, 2, 3, 1, 1, 6, 4, 5, 2, 6, 1, 5, 1, 4, 3, 5, 4, 3,\n",
       "       5, 3, 5, 1, 1, 6, 5, 3, 3, 5, 3, 4, 6, 1, 1, 5, 4, 5, 4, 4, 5, 1,\n",
       "       6, 4, 6, 2, 5, 5, 4, 3, 3, 3, 3, 3, 1, 3, 2, 6, 3, 4, 6, 1, 1, 6,\n",
       "       6, 6, 2, 2, 4, 4, 6, 4, 2, 4, 4, 4, 2, 4, 1, 5, 6, 1, 6, 6, 3, 5,\n",
       "       5, 3, 1, 4, 6, 3, 5, 6, 1, 5, 6, 3, 4, 5, 3, 5, 2, 4, 5, 4, 1, 4,\n",
       "       1, 5, 4, 1, 6, 4, 2, 5, 5, 6, 3, 6, 6, 3, 5, 3, 2, 3, 4, 2, 6, 6,\n",
       "       4, 4, 1, 5, 4, 4, 6, 4, 4, 1, 3, 4, 6, 2, 6, 4, 3, 6, 4, 3, 6, 3,\n",
       "       1, 5, 1, 2, 4, 1, 1, 1, 2, 3, 5, 5, 3, 1, 2, 1, 1, 6, 3, 6, 5, 4,\n",
       "       1, 3, 2, 4, 4, 2, 5, 5, 5, 6, 1, 2, 1, 2, 3, 3, 5, 6, 6, 3, 5, 6,\n",
       "       1, 6, 3, 6, 5, 5, 2, 2, 2, 2, 6, 5, 6, 4, 5, 2, 2, 6, 2, 3, 5, 4,\n",
       "       3, 4, 4, 3, 4, 1, 3, 1, 2, 6, 1, 6, 1, 4, 5, 1, 1, 6, 1, 1, 2, 1,\n",
       "       6, 2, 4, 4, 5, 6, 1, 2, 6, 1, 4, 3, 2, 2, 1, 1, 2, 2, 4, 4, 6, 4,\n",
       "       5, 6, 3, 6, 4, 1, 3, 3, 1, 3, 3, 2, 1, 2, 5, 4, 2, 5, 1, 1, 1, 3,\n",
       "       1, 5, 2, 5, 1, 3, 6, 4, 3, 6, 2, 6, 4, 2, 2, 6, 3, 6, 1, 5, 5, 3,\n",
       "       3, 5, 1, 1, 4, 5, 5, 4])"
      ]
     },
     "execution_count": 21,
     "metadata": {},
     "output_type": "execute_result"
    }
   ],
   "source": [
    "d"
   ]
  },
  {
   "cell_type": "code",
   "execution_count": 34,
   "metadata": {},
   "outputs": [
    {
     "data": {
      "text/plain": [
       "array([1, 1, 1, 1, 1, 1, 1, 1, 1, 1, 1])"
      ]
     },
     "execution_count": 34,
     "metadata": {},
     "output_type": "execute_result"
    }
   ],
   "source": [
    "e = c[(c==1) & (d==2)]\n",
    "e"
   ]
  },
  {
   "cell_type": "code",
   "execution_count": 35,
   "metadata": {},
   "outputs": [
    {
     "data": {
      "text/plain": [
       "11"
      ]
     },
     "execution_count": 35,
     "metadata": {},
     "output_type": "execute_result"
    }
   ],
   "source": [
    "m = len(e)\n",
    "m\n"
   ]
  },
  {
   "cell_type": "code",
   "execution_count": 36,
   "metadata": {},
   "outputs": [
    {
     "data": {
      "text/plain": [
       "0.030555555555555555"
      ]
     },
     "execution_count": 36,
     "metadata": {},
     "output_type": "execute_result"
    }
   ],
   "source": [
    "W = m / n\n",
    "W"
   ]
  }
 ],
 "metadata": {
  "kernelspec": {
   "display_name": "Python 3",
   "language": "python",
   "name": "python3"
  },
  "language_info": {
   "codemirror_mode": {
    "name": "ipython",
    "version": 3
   },
   "file_extension": ".py",
   "mimetype": "text/x-python",
   "name": "python",
   "nbconvert_exporter": "python",
   "pygments_lexer": "ipython3",
   "version": "3.9.6"
  }
 },
 "nbformat": 4,
 "nbformat_minor": 2
}
